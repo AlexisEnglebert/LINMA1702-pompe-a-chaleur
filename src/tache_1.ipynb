{
 "cells": [
  {
   "cell_type": "markdown",
   "id": "64b329d3",
   "metadata": {},
   "source": [
    "# Imports"
   ]
  },
  {
   "cell_type": "code",
   "execution_count": 9,
   "id": "2e80591a",
   "metadata": {},
   "outputs": [],
   "source": [
    "import numpy as np # Pour les math\n",
    "import matplotlib.pyplot as plt # Pour les graphiques\n",
    "from scipy.optimize import linprog # Notre solveur"
   ]
  },
  {
   "cell_type": "markdown",
   "id": "55099eac",
   "metadata": {},
   "source": [
    "# Données"
   ]
  },
  {
   "cell_type": "code",
   "execution_count": 10,
   "id": "d77d6a32",
   "metadata": {
    "scrolled": true
   },
   "outputs": [
    {
     "name": "stdout",
     "output_type": "stream",
     "text": [
      "[ -0.83  -0.83  -0.83 ... -11.1  -11.1  -11.1 ]\n"
     ]
    }
   ],
   "source": [
    "data = np.load(\"Temperatures-Montreal.npy\")\n",
    "print(data)"
   ]
  },
  {
   "cell_type": "markdown",
   "id": "866facf1",
   "metadata": {},
   "source": [
    "# Résolution du système\n",
    "## Variables\n",
    "Soit ${e}_i$ la consomation électrique de la pompe à l'intervale $i$. \\\n",
    "Soit $s_i = 1$ si l'intervale $i$ se trouve le soir (entre 22H et 7H) et $s_i = 0$ sinon. \\\n",
    "Soit $j_i = 1$ si l'intervale $i$ se trouve la journée (entre 7H et 22H) et $j_i =0$ sinon. \\\n",
    "Soit $a_i = 1$ si on active la pompe à chaleur à l'intervale $i$ et $a_i = 0$ sinon. \\\n",
    "Soit $t_{{in}_i}$ la température intérieure à l'intervale $i$. \\\n",
    "Soit $t_{{ex}_i}$ la température exterieure à l'intervale $i$.\n",
    "\n",
    "## Objectif\n",
    "Minimiser le coût total de l'électricité consommée par la pompe à chaleur. \\\n",
    "$\\[ \\sum_{i=0}^{672} a_i*() \\]$\n",
    "\n",
    "## Contraintes\n",
    "Consommation électrique maximale de la pompe à chaleur: $1kW$\\\n",
    "${e}_i \\leq 1$ \\\n",
    "l'intervale ne peut pas être dans la journée et dans le soir. \\\n",
    "$s_i = 1 - j_i$\n",
    "\n",
    "Les variables $ s_{i}$, $j_{i}$, $a_{i}$ sont binaires \\\n",
    "$s_i \\in \\{0, 1\\}$ \\\n",
    "$j_i \\in \\{0, 1\\}$ \\\n",
    "$a_i \\in \\{0, 1\\}$\n",
    "\n",
    "$\n",
    "\\begin{cases}\n",
    "min a \\\\\n",
    "s_i = 1 - j_i \\\\\n",
    "{e}_i \\leq 1 \\\\\n",
    "\\end{cases}\n",
    "$"
   ]
  },
  {
   "cell_type": "code",
   "execution_count": 14,
   "id": "28d3d432",
   "metadata": {},
   "outputs": [],
   "source": [
    "def task_1(i_idx):\n",
    "    days_offset = 96\n",
    "    end_idx = i_idx + days_offset*7\n",
    "    central_value = np.mean(data[i_idx:end_idx])\n",
    "    # On suppose qu'on commence la journée à 0\n",
    "    print(central_value)"
   ]
  },
  {
   "cell_type": "code",
   "execution_count": 12,
   "id": "e585f89f",
   "metadata": {},
   "outputs": [
    {
     "name": "stdout",
     "output_type": "stream",
     "text": [
      "-6.727605482178549\n"
     ]
    }
   ],
   "source": [
    "task_1(0)"
   ]
  },
  {
   "cell_type": "code",
   "execution_count": null,
   "id": "91cbeb82",
   "metadata": {},
   "outputs": [],
   "source": []
  }
 ],
 "metadata": {
  "kernelspec": {
   "display_name": "Python 3 (ipykernel)",
   "language": "python",
   "name": "python3"
  },
  "language_info": {
   "codemirror_mode": {
    "name": "ipython",
    "version": 3
   },
   "file_extension": ".py",
   "mimetype": "text/x-python",
   "name": "python",
   "nbconvert_exporter": "python",
   "pygments_lexer": "ipython3",
   "version": "3.10.9"
  }
 },
 "nbformat": 4,
 "nbformat_minor": 5
}
