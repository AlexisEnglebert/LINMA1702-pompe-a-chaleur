{
 "cells": [
  {
   "cell_type": "markdown",
   "id": "b39e4013",
   "metadata": {},
   "source": [
    "# Imports"
   ]
  },
  {
   "cell_type": "code",
   "execution_count": 9,
   "id": "2e80591a",
   "metadata": {},
   "outputs": [],
   "source": [
    "import numpy as np # Pour les math\n",
    "import matplotlib.pyplot as plt # Pour les graphiques\n",
    "from scipy.optimize import linprog # Notre solveur"
   ]
  },
  {
   "cell_type": "markdown",
   "id": "73ce046a",
   "metadata": {},
   "source": [
    "# Données"
   ]
  },
  {
   "cell_type": "code",
   "execution_count": 10,
   "id": "a7543c57",
   "metadata": {
    "scrolled": true
   },
   "outputs": [
    {
     "name": "stdout",
     "output_type": "stream",
     "text": [
      "[ -0.83  -0.83  -0.83 ... -11.1  -11.1  -11.1 ]\n"
     ]
    }
   ],
   "source": [
    "data = np.load(\"Temperatures-Montreal.npy\")\n",
    "print(data)"
   ]
  },
  {
   "cell_type": "markdown",
   "id": "561e8bfb",
   "metadata": {},
   "source": [
    "# Résolution du système\n",
    "## Variables\n",
    "Soit ${CE}_i$ la consomation électrique de la pompe à l'intervale $i$ \\\n",
    "Soit $s_i = 1$ si l'intervale $i$ se trouve le soir (entre 22H et 7H) et $s_i = 0$ sinon\\\n",
    "## Contraintes\n",
    "Consommation électrique maximale de la pompe à chaleur: $1kW$\\\n",
    "${CE}_i \\leq 1$ \\\n",
    "$\n",
    "\\begin{cases}\n",
    "\\end{cases}\n",
    "$"
   ]
  },
  {
   "cell_type": "code",
   "execution_count": 14,
   "id": "f5b49312",
   "metadata": {},
   "outputs": [],
   "source": [
    "def task_1(interval_idx):\n",
    "    days_offset = 96\n",
    "    end_idx = interval_idx + days_offset*7\n",
    "    central_value = np.mean(data[interval_idx:end_idx])\n",
    "    # On suppose qu'on commence la journée à 0\n",
    "    print(central_value)"
   ]
  },
  {
   "cell_type": "code",
   "execution_count": 12,
   "id": "d613d016",
   "metadata": {},
   "outputs": [
    {
     "name": "stdout",
     "output_type": "stream",
     "text": [
      "-6.727605482178549\n"
     ]
    }
   ],
   "source": [
    "task_1(0)"
   ]
  },
  {
   "cell_type": "code",
   "execution_count": null,
   "id": "dcd29fc1",
   "metadata": {},
   "outputs": [],
   "source": []
  }
 ],
 "metadata": {
  "kernelspec": {
   "display_name": "Python 3 (ipykernel)",
   "language": "python",
   "name": "python3"
  },
  "language_info": {
   "codemirror_mode": {
    "name": "ipython",
    "version": 3
   },
   "file_extension": ".py",
   "mimetype": "text/x-python",
   "name": "python",
   "nbconvert_exporter": "python",
   "pygments_lexer": "ipython3",
   "version": "3.10.9"
  }
 },
 "nbformat": 4,
 "nbformat_minor": 5
}
