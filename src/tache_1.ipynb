{
 "cells": [
  {
   "cell_type": "markdown",
   "id": "2c623b73",
   "metadata": {},
   "source": [
    "# Imports"
   ]
  },
  {
   "cell_type": "code",
   "execution_count": 5,
   "id": "2e80591a",
   "metadata": {},
   "outputs": [],
   "source": [
    "import numpy as np # Pour les math\n",
    "import matplotlib.pyplot as plt # Pour les graphiques\n",
    "from scipy.optimize import linprog # Notre solveur"
   ]
  },
  {
   "cell_type": "markdown",
   "id": "dcd93acf",
   "metadata": {},
   "source": [
    "# Données"
   ]
  },
  {
   "cell_type": "code",
   "execution_count": 7,
   "id": "32f8081c",
   "metadata": {
    "scrolled": true
   },
   "outputs": [
    {
     "name": "stdout",
     "output_type": "stream",
     "text": [
      "-0.8299999999999841\n"
     ]
    }
   ],
   "source": [
    "temperatures_exterieurs = np.load(\"Temperatures-Montreal.npy\")\n",
    "print(temperatures_exterieurs[0])"
   ]
  },
  {
   "cell_type": "markdown",
   "id": "d8da3cde",
   "metadata": {},
   "source": [
    "# Résolution du système\n",
    "## Variables\n",
    "Soit ${e}_i$ la consomation électrique de la pompe à l'intervale $i$. \\\n",
    "Soit $s_i = 1$ si l'intervale $i$ se trouve le soir (entre 22H et 7H) et $s_i = 0$ sinon. \\\n",
    "Soit $j_i = 1$ si l'intervale $i$ se trouve la journée (entre 7H et 22H) et $j_i =0$ sinon. \\\n",
    "Soit $a_i = 1$ si on active la pompe à chaleur à l'intervale $i$ et $a_i = 0$ sinon. \\\n",
    "Soit $r_i = 1$ si la pompe à chaleur est en mode \"reverse\" à l'intervale $i$ et $r_i = 0$ sinon. \\ \n",
    "Soit $c_i = 1$ si la pompe à chaleur est en mode \"normal\" à l'intervale $i$ et $c_i = 0$ sinon. \\ \n",
    "Soit $t_{{in}_i}$ la température intérieure à l'intervale $i$. \\\n",
    "Soit $t_{{ex}_i}$ la température exterieure à l'intervale $i$.\n",
    "\n",
    "## Objectif\n",
    "Minimiser le coût total de l'électricité consommée par la pompe à chaleur. \\\n",
    "Étant donné qu'on sait déterminer quand nous sommes la journée ou la soirée, on obtiens ceci pour le cout qu'on vas noter $c_i = 0.18s_i + 0.26j_i$. \\\n",
    "En effet, étant donné que $s_i$ et $j_i$ ne peuvent pas être positifs en même temps alors il n'y aura qu'une des deux valeur choisies.\n",
    "\n",
    "Maintenant il reste à déterminer la quantité d'énergie utilisée ($e_i$). Pour ce faire, il faut d'abord savoir si la pompe à chaleur vas chauffer ou refroidir. On doit donc implémenter ceci : \n",
    "```\n",
    "si température intérieur > température extérieur alors ri = 1 \n",
    "ou sinon ri = 0\n",
    "```\n",
    "Pour résoudre ça on vas utiliser la [Big-M method](https://en.wikipedia.org/wiki/Big_M_method)\n",
    "On obtien donc les inégalitées suivantes.\n",
    "$\n",
    "    t_{{ex}_i} \\ge t_{{in}_i} - M(1 - r_i) \\\\\n",
    "    t_{{ex}_i} \\le  t_{{in}_i} + Mr_i \\\\\n",
    "    r_i \\in \\{0,1\\}\n",
    "$\n",
    "\n",
    "Donc on obitens une fonction pour le COP :\n",
    "$o_i = c_i(3 + 10 * abs(tanh(Text/100)) * tanh(Text/100)) + 3.2r_i$ \n",
    "\n",
    "Ainsi pour résoudre notre problème énoncé plus haut:\n",
    "TODO : PAS SUR DE ÇA ?\n",
    "TODO : Le solveur doit trouver 2 trucs, la température et quand activer la pompe à chaleur !!!!!\n",
    "\n",
    "$\n",
    "e_i = o_i * | t_{{ex}_i} - t_{{in}_i}| \n",
    "$\n",
    "\n",
    "$\\[ \\sum_{i=0}^{672} a_i( (*qt de chaleure*) ) \\]$\n",
    "\n",
    "## Contraintes\n",
    "Consommation électrique maximale de la pompe à chaleur: $1kW$\\\n",
    "${e}_i \\leq 1$ \\\n",
    "l'intervale ne peut pas être dans la journée et dans le soir. \\\n",
    "$s_i = 1 - j_i$\n",
    "\n",
    "La pompe à chaleur ne peux pas refroidir et chauffer en même temps. \\\n",
    "$r_i = 1 - c_i$\n",
    "\n",
    "Les variables $ s_{i}$, $j_{i}$, $a_{i}$ sont binaires \\\n",
    "$s_i \\in \\{0, 1\\}$ \\\n",
    "$j_i \\in \\{0, 1\\}$ \\\n",
    "$a_i \\in \\{0, 1\\}$ \\\n",
    "$r_i \\in \\{0, 1\\}$ \\\n",
    "$c_i \\in \\{0, 1\\}$ \\\n",
    "\n",
    "La température doit être satisfaite\n",
    "$t_{{in}_i} - t_{{in}_{i-1}} = 0.1(t_{{in}_{i-1}} - t_{{ex}_i})$\n",
    "\n",
    "\n",
    "$\n",
    "\\begin{cases}\n",
    "min a \\\\\n",
    "s_i = 1 - j_i \\\\\n",
    "{e}_i \\leq 1 \\\\\n",
    "\\end{cases}\n",
    "$"
   ]
  },
  {
   "cell_type": "code",
   "execution_count": 11,
   "id": "7728575d",
   "metadata": {},
   "outputs": [],
   "source": [
    "def task_1(i_idx):\n",
    "    days_offset = 96\n",
    "    end_idx = i_idx + days_offset*7\n",
    "    central_value = 20\n",
    "    \n",
    "    # On suppose qu'on commence la journée à 0\n",
    "    print(central_value)"
   ]
  },
  {
   "cell_type": "code",
   "execution_count": 4,
   "id": "7468712e",
   "metadata": {},
   "outputs": [
    {
     "name": "stdout",
     "output_type": "stream",
     "text": [
      "-6.727605482178549\n"
     ]
    }
   ],
   "source": [
    "task_1(0)"
   ]
  },
  {
   "cell_type": "code",
   "execution_count": null,
   "id": "1fb6ffcf",
   "metadata": {},
   "outputs": [],
   "source": []
  }
 ],
 "metadata": {
  "kernelspec": {
   "display_name": "Python 3 (ipykernel)",
   "language": "python",
   "name": "python3"
  },
  "language_info": {
   "codemirror_mode": {
    "name": "ipython",
    "version": 3
   },
   "file_extension": ".py",
   "mimetype": "text/x-python",
   "name": "python",
   "nbconvert_exporter": "python",
   "pygments_lexer": "ipython3",
   "version": "3.10.9"
  }
 },
 "nbformat": 4,
 "nbformat_minor": 5
}
