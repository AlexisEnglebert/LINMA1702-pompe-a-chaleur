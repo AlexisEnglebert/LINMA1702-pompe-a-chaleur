{
 "cells": [
  {
   "cell_type": "markdown",
   "id": "2c623b73",
   "metadata": {},
   "source": [
    "# Imports"
   ]
  },
  {
   "cell_type": "code",
   "execution_count": 51,
   "id": "2e80591a",
   "metadata": {},
   "outputs": [],
   "source": [
    "import numpy as np # Pour les math\n",
    "#import matplotlib.pyplot as plt # Pour les graphiques\n",
    "from scipy.optimize import linprog # Notre solveur"
   ]
  },
  {
   "cell_type": "markdown",
   "id": "dcd93acf",
   "metadata": {},
   "source": [
    "# Données et Utils"
   ]
  },
  {
   "cell_type": "code",
   "execution_count": 52,
   "id": "32f8081c",
   "metadata": {
    "scrolled": true
   },
   "outputs": [
    {
     "name": "stdout",
     "output_type": "stream",
     "text": [
      "-0.8299999999999841\n"
     ]
    }
   ],
   "source": [
    "temperatures_exterieurs = np.load(\"Temperatures-Montreal.npy\")\n",
    "print(temperatures_exterieurs[0])"
   ]
  },
  {
   "cell_type": "code",
   "execution_count": 53,
   "id": "6afd68b3",
   "metadata": {},
   "outputs": [],
   "source": [
    "def is_night(idx): # run in O(n) instead of O(1) because of flemme normally should be done with mod and divs\n",
    "    # idx is 15\n",
    "    # each day is 96 interval\n",
    "    #each hour is 4 interval\n",
    "    #so from 0 to 24 is night ...\n",
    "    #28 to 84 is day ...\n",
    "    #88 to 96 is night...\n",
    "    real_idx = 0\n",
    "    for i in range(0,len(temperatures_exterieurs)):\n",
    "        if real_idx > 96: #principe du mod 96 mais faut faire le reste des calculs et c'est pas le plus important\n",
    "            real_idx = 0\n",
    "        if(i == idx):\n",
    "            if(real_idx >= 0 and real_idx <= 24):\n",
    "                return True\n",
    "            elif(real_idx >= 28 and real_idx <= 84):\n",
    "                return False\n",
    "            elif(real_idx >= 28 and real_idx <= 96):\n",
    "                return True\n",
    "        real_idx += 1"
   ]
  },
  {
   "attachments": {},
   "cell_type": "markdown",
   "id": "d8da3cde",
   "metadata": {},
   "source": [
    "# Résolution du système\n",
    "## Variables de décison\n",
    "Soit $x_i l'énergie utiliser en mode normale par la pompe à chaleur à l'intervalle de temps i. \\\n",
    "Soit $y_i l'énergie utiliser en mode reverse par la pompe à chaleur à l'intervalle de temps i. \n",
    "\n",
    "## Objectif (FAUX j'ai mal compris l'énoncé ....)\n",
    "Minimiser le coût total de l'électricité consommée par la pompe à chaleur. \\\n",
    "\n",
    "Fonction objective: \\\n",
    "$min(x_i + y_i) * c_i$\n",
    "\n",
    "où c_i est le coût de l'électricité à l'intervalle de temps i. \\\n",
    "$c_i = 0.18$ si c'est la nuit \\\n",
    "ou \\\n",
    "$c_i = 0.26$ si c'est le jour\n",
    "\n",
    "\n",
    "## Contraintes\n",
    "$x_i \\in \\{0, 1\\}$ \\\n",
    "$y_i \\in \\{0, 1\\}$ \\\n",
    "$x_i \\ge (19-t_i)/COP_{xi}$ \\\n",
    "$x_i \\le (21-t_i)/COP_{xi}$ \\\n",
    "$y_i \\ge -(21-t_i)/3.2$ \\\n",
    "$y_i \\le -(19-t_i)/3.2$ \\\n",
    "$t_{{in}_{i+1}} - t_{{in_final}_i} = -0.01 * (t_{{in_final}_i} - t_{{ex}_i})$ \\\n",
    "$COP_{xi} = 3 + 10 * abs(tanh(t_{{ex}_i}/100)) * tanh(t_{{ex}_i}/100)$ \\\n",
    "où $t_i$ est la température intérieur initiale à l'intervalle de temps i, $COP_{xi}$ le coefficent de performance de la pompe à chaleur en mode noramel à l'intervalle de temps i, $t_{{in_final}_i}$ la température à l'intérieur après avoir utilisé (ou non) la pompe à chaleur à l'intervalle de temps i et $t_{{ex}_i}$ est la température extérieur de Montréal à l'interval de temps i.\n",
    "\n",
    "\n",
    "# Système entier\n",
    "$A * x = b$\n"
   ]
  },
  {
   "cell_type": "code",
   "execution_count": 54,
   "id": "7728575d",
   "metadata": {},
   "outputs": [],
   "source": [
    "def task_1(i_idx):\n",
    "    days_offset = 96\n",
    "    end_idx = i_idx + days_offset*7\n",
    "    central_value = 20\n",
    "    #1h = 4 intervale\n",
    "    #donc \n",
    "    \n",
    "    # On suppose qu'on commence la journée à 0\n",
    "    #On crée la matrice, il y a 2 inconnues a trouver donc 2 collones\n",
    "    # a, d\n",
    "    valeur_energie = []\n",
    "    valeur_cout = []\n",
    "    cop_const = 3.2\n",
    "    T0 = 20 # température de départ\n",
    "    for i in range(i_idx, end_idx):\n",
    "        s = is_night(i)\n",
    "        elec_cost =  0.18 if s == True else 0.26\n",
    "        cop_tex = 3 + 10 * abs(np.tanh(temperatures_exterieurs[i]/100)) * np.tanh(temperatures_exterieurs[i]/100)\n",
    "        \n",
    "        T1 = (-0.01) * (T0 - temperatures_exterieurs[i]) + T0 #température initial suivante\n",
    "\n",
    "        # x et y compris entre 0 et 1\n",
    "        xi_bounds = (0, 1)\n",
    "        yi_bounds = (0, 1)\n",
    "        # Fonction objectif = c^T x avec c = (elec_cost,elec_cost)\n",
    "        ci = (elec_cost, elec_cost)\n",
    "        # Contraintes : ici de la forme A x <= b \n",
    "        A = [[-1, 0], [1, 0], [0, -1], [0, 1]]\n",
    "         \n",
    "        b = [0, 0, 0, 0]\n",
    "        if T1 <= 19:\n",
    "            b = [-(19-T1)/cop_tex, (21-T1)/cop_tex, 0, 0]\n",
    "        if T1 >= 21:\n",
    "            b = [0, 0, (T1-21)/3.2, -(T1-19)/3.2]\n",
    "       \n",
    "\n",
    "\n",
    "        res = linprog(ci, A_ub=A, b_ub=b, bounds=(xi_bounds, yi_bounds), options={\"disp\": False})\n",
    "        valeur_energie.append(res.x)\n",
    "        valeur_cout.append(res.fun)\n",
    "        \n",
    "        T0 = T1 + (res.x[0] * cop_tex) - (res.x[1] * cop_const)\n",
    "    solution = sum(valeur_cout)\n",
    "    print(solution) \n",
    "    return solution\n",
    "        \n",
    "        \n",
    "        \n"
   ]
  },
  {
   "cell_type": "code",
   "execution_count": 55,
   "id": "7468712e",
   "metadata": {},
   "outputs": [
    {
     "name": "stdout",
     "output_type": "stream",
     "text": [
      "3.2863166543349225\n"
     ]
    },
    {
     "data": {
      "text/plain": [
       "3.2863166543349225"
      ]
     },
     "execution_count": 55,
     "metadata": {},
     "output_type": "execute_result"
    }
   ],
   "source": [
    "task_1(13050)"
   ]
  }
 ],
 "metadata": {
  "kernelspec": {
   "display_name": "Python 3 (ipykernel)",
   "language": "python",
   "name": "python3"
  },
  "language_info": {
   "codemirror_mode": {
    "name": "ipython",
    "version": 3
   },
   "file_extension": ".py",
   "mimetype": "text/x-python",
   "name": "python",
   "nbconvert_exporter": "python",
   "pygments_lexer": "ipython3",
   "version": "3.9.13"
  }
 },
 "nbformat": 4,
 "nbformat_minor": 5
}
