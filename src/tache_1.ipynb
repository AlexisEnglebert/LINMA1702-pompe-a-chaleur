{
 "cells": [
  {
   "cell_type": "markdown",
   "id": "2c623b73",
   "metadata": {},
   "source": [
    "# Imports"
   ]
  },
  {
   "cell_type": "code",
   "execution_count": 5,
   "id": "2e80591a",
   "metadata": {},
   "outputs": [],
   "source": [
    "import numpy as np # Pour les math\n",
    "import matplotlib.pyplot as plt # Pour les graphiques\n",
    "from scipy.optimize import linprog # Notre solveur"
   ]
  },
  {
   "cell_type": "markdown",
   "id": "dcd93acf",
   "metadata": {},
   "source": [
    "# Données et Utils"
   ]
  },
  {
   "cell_type": "code",
   "execution_count": 7,
   "id": "32f8081c",
   "metadata": {
    "scrolled": true
   },
   "outputs": [
    {
     "name": "stdout",
     "output_type": "stream",
     "text": [
      "-0.8299999999999841\n"
     ]
    }
   ],
   "source": [
    "temperatures_exterieurs = np.load(\"Temperatures-Montreal.npy\")\n",
    "print(temperatures_exterieurs[0])"
   ]
  },
  {
   "cell_type": "code",
   "execution_count": 15,
   "id": "6afd68b3",
   "metadata": {},
   "outputs": [],
   "source": [
    "def is_night(idx): # run in O(n) instead of O(1) because of flemme normally should be done with mod and divs\n",
    "    # idx is 15\n",
    "    # each day is 96 interval\n",
    "    #each hour is 4 interval\n",
    "    #so from 0 to 24 is night ...\n",
    "    #28 to 84 is day ...\n",
    "    #88 to 96 is night...\n",
    "    real_idx = 0\n",
    "    for i in range(0,len(temperatures_exterieurs)):\n",
    "        if real_idx > 96: #principe du mod 96 mais faut faire le reste des calculs et c'est pas le plus important\n",
    "            real_idx = 0\n",
    "        if(i == idx):\n",
    "            if(real_idx >= 0 and real_idx <= 24):\n",
    "                return True\n",
    "            elif(real_idx >= 28 and real_idx <= 84):\n",
    "                return False\n",
    "            elif(real_idx >= 28 and real_idx <= 96):\n",
    "                return True\n",
    "        real_idx += 1"
   ]
  },
  {
   "attachments": {},
   "cell_type": "markdown",
   "id": "d8da3cde",
   "metadata": {},
   "source": [
    "# Résolution du système\n",
    "## Variables de décison\n",
    "Soit $x_i l'énergie utiliser en mode normale par la pompe à chaleur à l'intervalle de temps i. \\\n",
    "Soit $y_i l'énergie utiliser en mode reverse par la pompe à chaleur à l'intervalle de temps i. \n",
    "\n",
    "## Objectif (FAUX j'ai mal compris l'énoncé ....)\n",
    "Minimiser le coût total de l'électricité consommée par la pompe à chaleur. \\\n",
    "\n",
    "Fonction objective: \\\n",
    "$min(x_i + y_i) * c_i$\n",
    "\n",
    "où c_i est le coût de l'électricité à l'intervalle de temps i. \\\n",
    "$c_i = 0.18$ si c'est la nuit \\\n",
    "ou \\\n",
    "$c_i = 0.26$ si c'est le jour\n",
    "\n",
    "\n",
    "## Contraintes\n",
    "$x_i \\in \\{0, 1\\}$ \\\n",
    "$y_i \\in \\{0, 1\\}$ \\\n",
    "$x_i \\ge (19-t_i)/COP_{xi}$ \\\n",
    "$x_i \\le (21-t_i)/COP_{xi}$ \\\n",
    "$y_i \\ge -(21-t_i)/3.2$ \\\n",
    "$y_i \\le -(19-t_i)/3.2$ \\\n",
    "$t_{{in}_{i+1}} - t_{{in_final}_i} = -0.01 * (t_{{in_final}_i} - t_{{ex}_i})$ \\\n",
    "$COP_{xi} = 3 + 10 * abs(tanh(t_{{ex}_i}/100)) * tanh(t_{{ex}_i}/100)$ \\\n",
    "où $t_i$ est la température intérieur initiale à l'intervalle de temps i, $COP_{xi}$ le coefficent de performance de la pompe à chaleur en mode noramel à l'intervalle de temps i, $t_{{in_final}_i}$ la température à l'intérieur après avoir utilisé (ou non) la pompe à chaleur à l'intervalle de temps i et $t_{{ex}_i}$ est la température extérieur de Montréal à l'interval de temps i.\n",
    "\n",
    "\n",
    "# Système entier\n",
    "$A * x = b$\n"
   ]
  },
  {
   "cell_type": "code",
   "execution_count": 20,
   "id": "7728575d",
   "metadata": {},
   "outputs": [],
   "source": [
    "def task_1(i_idx):\n",
    "    days_offset = 96\n",
    "    end_idx = i_idx + days_offset*7\n",
    "    central_value = 20\n",
    "    #1h = 4 intervale\n",
    "    #donc \n",
    "    \n",
    "    # On suppose qu'on commence la journée à 0\n",
    "    #On crée la matrice, il y a 2 inconnues a trouver donc 2 collones\n",
    "    # a, d\n",
    "    for i in range(i_idx, end_idx):\n",
    "        s = is_night(i)\n",
    "        elec_cost =  0.18 if s == True else 0.26\n",
    "        cop_tex = 3 + 10 * abs(numpy.tanh(temperatures_exterieurs[i]/100)) * numpy.tanh(temperatures_exterieurs[i]/100)\n",
    "        cop_const = 3.2\n",
    "        elec_required = 0.4 # Electricity required to heat the entire room (+1 deg)\n",
    "        T0 = 20 # température de départ\n",
    "        xi_bounds = (0, 1)\n",
    "        yi_bounds = (0, 1)\n",
    "        ci = (elec_cost, elec_cost)\n",
    "\n",
    "        \n",
    "        T1 = (-0.01) * (T0 - temperatures_exterieurs[i]) + T0\n",
    "        d = 0\n",
    "        if T1 < 19:\n",
    "            d = 19-T1 #degré à compenser\n",
    "\n",
    "        if T1 > 21:\n",
    "            d =\n",
    "\n",
    "\n",
    "        #Contrainte\n",
    "\n",
    "        \n",
    "        #Donc on doit bien maximiser \n",
    "        # ai*(elec_cost*( 0.4*|di| * cop)\n",
    "        # avec comme contrainte : \n",
    "        #   ai € [0,1]\n",
    "        #   (et le reste voir au-dessus)\n",
    "        #\n",
    "        # Matrice de contraintes sur le temps (où •••• = coef):\n",
    "        #\n",
    "        # •••     20        = T_0+\n",
    "        # •••    T_0+       = T_1+\n",
    "        # •••    T_1+       = T_2+\n",
    "        # •••    T_2+       = T_3+\n",
    "        #\n",
    "        #\n",
    "        # •••    T_0+       <= 21\n",
    "        # •••    T_1+       <= 21\n",
    "        # •••    T_2+       <= 21\n",
    "        #\n",
    "        # •••    T_0+       >= 19\n",
    "        # •••    T_1+       >= 19\n",
    "        # •••    T_2+       >= 19\n",
    "        #\n",
    "        # /!\\ LA MÊME POUR >= MAIS AVEC DES COEF = 0\n",
    "        # •••    e_0       <= 1\n",
    "        # •••    e_1       <= 1\n",
    "        # •••    e_2       <= 1       \n",
    "        #\n",
    "        # /!\\ ICI LA BIG-M METHOD .....\n",
    "        #\n",
    "        #\n",
    "        #\n",
    "        #\n"
   ]
  },
  {
   "cell_type": "code",
   "execution_count": 14,
   "id": "7468712e",
   "metadata": {},
   "outputs": [
    {
     "name": "stdout",
     "output_type": "stream",
     "text": [
      "20\n"
     ]
    }
   ],
   "source": [
    "task_1(0)"
   ]
  }
 ],
 "metadata": {
  "kernelspec": {
   "display_name": "Python 3 (ipykernel)",
   "language": "python",
   "name": "python3"
  },
  "language_info": {
   "codemirror_mode": {
    "name": "ipython",
    "version": 3
   },
   "file_extension": ".py",
   "mimetype": "text/x-python",
   "name": "python",
   "nbconvert_exporter": "python",
   "pygments_lexer": "ipython3",
   "version": "3.10.9"
  }
 },
 "nbformat": 4,
 "nbformat_minor": 5
}
