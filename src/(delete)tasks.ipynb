{
  "cells": [
    {
      "attachments": {},
      "cell_type": "markdown",
      "id": "4cc50347",
      "metadata": {
        "id": "4cc50347"
      },
      "source": [
        "# Partie 1"
      ]
    },
    {
      "attachments": {},
      "cell_type": "markdown",
      "id": "2c623b73",
      "metadata": {
        "id": "2c623b73"
      },
      "source": [
        "## Imports"
      ]
    },
    {
      "cell_type": "code",
      "execution_count": null,
      "id": "2e80591a",
      "metadata": {
        "id": "2e80591a"
      },
      "outputs": [],
      "source": [
        "import numpy as np # Pour les math\n",
        "import matplotlib.pyplot as plt # Pour les graphiques\n",
        "import cvxpy as cp\n",
        "import time"
      ]
    },
    {
      "attachments": {},
      "cell_type": "markdown",
      "id": "dcd93acf",
      "metadata": {
        "id": "dcd93acf"
      },
      "source": [
        "## Données et Utils"
      ]
    },
    {
      "cell_type": "code",
      "execution_count": null,
      "id": "2194d314",
      "metadata": {
        "id": "2194d314"
      },
      "outputs": [],
      "source": [
        "# NOS CONSTANTES POUR TOUT LE PROJET : \n",
        "COP_CONST = 3.2\n",
        "CAPACITE_CALORIFIQUE = 0.4\n",
        "MIN_TEMP = 19\n",
        "MAX_TEMP = 21\n",
        "ETA  = 0.99\n",
        "NIGHT_COST = 0.18\n",
        "DAY_COST = 0.26\n",
        "MAX_ENERGY = 1"
      ]
    },
    {
      "cell_type": "code",
      "execution_count": null,
      "id": "6afd68b3",
      "metadata": {
        "id": "6afd68b3"
      },
      "outputs": [],
      "source": [
        "def is_night(idx):\n",
        "    days_offset = 96\n",
        "    day = (idx % days_offset)\n",
        "    return True if day > 88 or day < 28 else False\n",
        "\n",
        "\n",
        "def degree_to_get(reference, outside_temperature , x_i):\n",
        "    \n",
        "    if (reference < outside_temperature):\n",
        "        return (COP_CONST * CAPACITE_CALORIFIQUE * x_i) \n",
        "    else:\n",
        "        COP_TEX = 3 + 10 * abs(np.tanh(outside_temperature/100)) * np.tanh(outside_temperature/100)\n",
        "        return (COP_TEX * CAPACITE_CALORIFIQUE * x_i)"
      ]
    },
    {
      "cell_type": "code",
      "execution_count": null,
      "id": "32f8081c",
      "metadata": {
        "id": "32f8081c",
        "scrolled": true
      },
      "outputs": [],
      "source": [
        "temperatures_exterieurs = np.load(\"Temperatures-Montreal.npy\")"
      ]
    },
    {
      "attachments": {},
      "cell_type": "markdown",
      "id": "c9ed6117",
      "metadata": {
        "id": "c9ed6117"
      },
      "source": [
        "## Fonctions d'affichache"
      ]
    },
    {
      "cell_type": "code",
      "execution_count": null,
      "id": "da70dde0",
      "metadata": {
        "id": "da70dde0"
      },
      "outputs": [],
      "source": [
        "def display_temperature(Tin, temperatures_exterieurs, start_idx):\n",
        "    axe_x = range(672)\n",
        "    \n",
        "    fig, ax = plt.subplots()\n",
        "    ax.add_patch(plt.Rectangle((0, MIN_TEMP), 672, (MAX_TEMP - MIN_TEMP), alpha=.2))\n",
        "    ax.plot(axe_x, Tin.value, label=\"Temperature intérieure\", color=\"red\")\n",
        "    ax.plot(axe_x, temperatures_exterieurs[start_idx:start_idx+672], label=\"Température extérieure\", color=\"black\")\n",
        "\n",
        "    plt.legend()\n",
        "    plt.title(\"Comparaison entre la température extérieure et intérieure\")\n",
        "    plt.xlabel(\"Intervalles de 15 minutes\")\n",
        "    plt.ylabel(\"Température (en °C)\")\n",
        "    plt.show()\n",
        "\n",
        "\n",
        "def display_energy(valeur_energie):\n",
        "    axe_x = range(672)\n",
        "    refroidissement = []\n",
        "    rechauffement = []\n",
        "    \n",
        "    for i in valeur_energie:\n",
        "        if i < 0:\n",
        "            refroidissement.append(i)\n",
        "            rechauffement.append(0)\n",
        "        else:\n",
        "            rechauffement.append(i)\n",
        "            refroidissement.append(0)\n",
        "    fig, ax = plt.subplots()\n",
        "    ax.bar(axe_x, rechauffement, label=\"Pour réchauffer\", color=\"red\")\n",
        "    ax.bar(axe_x, refroidissement, label=\"Pour refroidir\", color=\"black\")\n",
        "    plt.legend()\n",
        "    plt.title(\"Énergie utilisée par la pompe à chaleur\")\n",
        "    plt.xlabel(\"Intervalles de 15 minutes\")\n",
        "    plt.ylabel(\"Énergie consommée (en watts)\")\n",
        "    plt.show()\n",
        "    \n",
        "def display_energy_separated(chaud, froid, BOUNDARY=None):\n",
        "    axe_x = range(672)\n",
        "    #froid = list(map(lambda x : -1*x, froid))\n",
        "    fig, ax = plt.subplots()\n",
        "    ax.bar(axe_x, chaud, label=\"Pour réchauffer\", color=\"red\")\n",
        "    ax.bar(axe_x, froid, label=\"Pour refroidir\", color=\"black\")\n",
        "    if BOUNDARY is not None:\n",
        "      ax.plot(axe_x, [BOUNDARY]*len(axe_x))\n",
        "    plt.legend()\n",
        "    plt.title(\"Énergie utilisée par la pompe à chaleur\")\n",
        "    plt.xlabel(\"Intervalles de 15 minutes\")\n",
        "    plt.ylabel(\"Énergie consommée (en watts)\")\n",
        "    plt.show()\n",
        "        \n",
        "#Création du graphe\n",
        "def display_inconfort_budget(list_inconfort, list_budget):\n",
        "    axe_x = range(9)\n",
        "    fig, ax = plt.subplots()\n",
        "    ax.bar(axe_x, list_inconfort, label=\"Inconfort total\", color=\"red\")\n",
        "    plt.legend()\n",
        "    plt.title(\"Inconfort total en fonction du budget alloué\")\n",
        "    plt.xlabel(\"Budget\")\n",
        "    plt.show()"
      ]
    },
    {
      "attachments": {},
      "cell_type": "markdown",
      "id": "d8da3cde",
      "metadata": {
        "id": "d8da3cde"
      },
      "source": [
        "## Résolution du système\n",
        "### Variables de décison\n",
        "Soit $x_i$ l'énergie utilisée en mode normal par la pompe à chaleur à l'intervalle de temps i. \\\n",
        "\n",
        "### Objectif \n",
        "Minimiser le coût total de l'électricité consommée par la pompe à chaleur. \\\n",
        "\n",
        "Fonction objective: \\\n",
        "min $c^T * abs(x_i)$\n",
        "\n",
        "où c_i est le coût de l'électricité à l'intervalle de temps i. \\\n",
        "$c_i = 0.18$ si c'est la nuit \\\n",
        "ou \\\n",
        "$c_i = 0.26$ si c'est le jour \\\n",
        "et où $abs(x_i)$ est l'énergie utilisée.\n",
        "\n",
        "### Contraintes\n",
        "$x_i \\le (1)$ \\\n",
        "$x_i \\ge (-1)$ \\\n",
        "$x_i \\ge (19-t_i)*(1/0.4)*(1/COP_{xi})$ \\\n",
        "$x_i \\le (21-t_i)*(1/0.4)*(1/COP_{xi})$ \\\n",
        "$x_i \\ge -(21-t_i)*(1/0.4)*(1/3.2)$ \\\n",
        "$x_i \\le -(19-t_i)*(1/0.4)*(1/3.2)$ \\\n",
        "$t_{{in}_{i+1}} - t_{{in}_i} = -0.01 * (t_{{in}_i} - t_{{ex}_i})$ \\\n",
        "$COP_{xi} = 3 + 10 * abs(tanh(t_{{ex}_i}/100)) * tanh(t_{{ex}_i}/100)$ \\\n",
        "où $t_{{in}_i}$ est la température intérieure initiale à l'intervalle de temps i, $COP_{xi}$ le coefficent de performance de la pompe à chaleur en mode normal à l'intervalle de temps i, $t_{{in}_{i+1}}$ la température à l'intérieure après avoir utilisé (ou non) la pompe à chaleur à l'intervalle de temps i et $t_{{ex}_i}$ est la température extérieure de Montréal à l'intervalle de temps i."
      ]
    },
    {
      "cell_type": "code",
      "execution_count": null,
      "id": "864e7b0f",
      "metadata": {
        "id": "864e7b0f"
      },
      "outputs": [],
      "source": [
        "def task_1(i_idx):\n",
        "    depart = time.time()\n",
        "    end_idx = i_idx + 96*7\n",
        "\n",
        "    cout_intervalle = [NIGHT_COST if is_night(i_idx) else DAY_COST]\n",
        "    \n",
        "    T0 = 20 # température de départ\n",
        "    \n",
        "    x = cp.Variable(end_idx-i_idx)\n",
        "    Tin = cp.Variable(end_idx-i_idx)\n",
        "    contraintes = [\n",
        "        Tin[0] == T0, \n",
        "        Tin[end_idx-i_idx-1] == T0\n",
        "    ]\n",
        "    \n",
        "\n",
        "    for i in range(1, end_idx-i_idx):\n",
        "        cout_intervalle.append(NIGHT_COST) if is_night(i + i_idx) else cout_intervalle.append(DAY_COST)\n",
        "\n",
        "        T1 = -(1 - ETA) * (Tin[i-1] - temperatures_exterieurs[i+ i_idx]) + Tin[i-1] #température initiale suivante\n",
        "        \n",
        "        degre_a_compenser = degree_to_get(20, temperatures_exterieurs[i+ i_idx], x[i])\n",
        "        \n",
        "        # Contrainte de degrée\n",
        "        contraintes.append((T1 + degre_a_compenser == Tin[i]))\n",
        "        contraintes.append(-Tin[i] <= -MIN_TEMP)\n",
        "        contraintes.append(Tin[i] <= MAX_TEMP)\n",
        "        \n",
        "        # Contrainte d'énergie\n",
        "        contraintes.append(x[i] <= MAX_ENERGY)\n",
        "        contraintes.append(x[i] >= -MAX_ENERGY)\n",
        "\n",
        "    fonction_cout = cp.sum(cp.multiply(cout_intervalle, cp.abs(x)))\n",
        "    solution = cp.Problem(cp.Minimize(fonction_cout), contraintes)\n",
        "    solution.solve()\n",
        "\n",
        "    fin = time.time() - depart\n",
        "    #cout_intervalle = x.value * cout_intervalle\n",
        "    \n",
        "    print(f\"Le coût minimal pour l'instance {i_idx} est de {solution.value} $\")\n",
        "    print(f\"Temps de calcul : {fin} s\")\n",
        "    \n",
        "    return (solution.value, Tin, temperatures_exterieurs, x.value, fin)"
      ]
    },
    {
      "cell_type": "code",
      "execution_count": null,
      "id": "7468712e",
      "metadata": {
        "id": "7468712e",
        "outputId": "991f2fa8-6ca2-459c-f3b6-800a26209f1b",
        "scrolled": true
      },
      "outputs": [],
      "source": [
        "min_cost, temperature_in, temperature_ext, énergie, _ = task_1(13050)\n",
        "print()\n",
        "min_cost2, temperature_in2, temperature_ext2, énergie2, _ = task_1(18500)"
      ]
    },
    {
      "cell_type": "code",
      "execution_count": null,
      "id": "23b5963d",
      "metadata": {
        "id": "23b5963d",
        "outputId": "a13f80b3-1e61-4541-ed62-14d6c5c8f47b"
      },
      "outputs": [],
      "source": [
        "display_temperature(temperature_in, temperature_ext, 13050)\n",
        "display_temperature(temperature_in2, temperature_ext2, 18500)"
      ]
    },
    {
      "cell_type": "code",
      "execution_count": null,
      "id": "d50f2d0a",
      "metadata": {
        "id": "d50f2d0a",
        "outputId": "6f56fd48-687c-4281-e43f-470696e09e0d"
      },
      "outputs": [],
      "source": [
        "display_energy(énergie)\n",
        "display_energy(énergie2)"
      ]
    },
    {
      "attachments": {},
      "cell_type": "markdown",
      "id": "28d676f9",
      "metadata": {
        "id": "28d676f9"
      },
      "source": [
        "# Commentaire\n",
        "Les résultats observés sur nos graphes sont satisfaisants, on voit que toutes les contraintes du problème sont respectées. (précision: Une énergie négative dans le graphe ne représente pas un gain d’énergie mais bien l’énergie dépensée en mode reverse). Nous avons choisi d’observer cette deuxième semaine car elle est très chaude et permet alors d’observer que la contrainte $x_i \\ge -1$ est respectée."
      ]
    },
    {
      "attachments": {},
      "cell_type": "markdown",
      "id": "7321165c",
      "metadata": {
        "id": "7321165c"
      },
      "source": [
        "# Tâche 2 \n",
        "\n",
        "## Variables de décision\n",
        "Soit $I_i$ l'inconfort à l'intervalle $i$. \\\n",
        "Soit $c_i$ le coût à l'intervalle $i$.\n",
        "## Objectif\n",
        "Minimiser l'inconfort total\n",
        "$\\sum_{i = 0}^{n} I_i$  sachant que l'inconfort à l'intervalle $i$ peut être définis comme ceci :\n",
        "$\n",
        "\\begin{cases}\n",
        "I_i = I_i + 3 & T_i < T\\_min \\\\\n",
        "I_i = I_i + 1 & T_i > T\\_max \\\\\n",
        "0 & sinon\\\\\n",
        "\\end{cases}\n",
        "$\n",
        "\\\n",
        "\\\n",
        "\\\n",
        "On peut également la noter d'une manière moin conditionelle. En effet, on aimerait considérer uniquement $T_i \\ge T\\_max$, et rien dans le cas contraire. Grâce à la fonction max on peut transformer ce système en simple équation du style.\\\n",
        "$\n",
        "I_i = 3* max(T\\_min - T_i, 0) + 1 * max(T_i - T\\_max, 0) \n",
        "$\n",
        "\n",
        "## Contraintes\n",
        "$\\sum_{i = 0}^{n} c_i \\leq$ MAX\\_BUDGET"
      ]
    },
    {
      "cell_type": "code",
      "execution_count": null,
      "id": "fa5d09cb",
      "metadata": {
        "id": "fa5d09cb"
      },
      "outputs": [],
      "source": [
        "def task_2(MAX_BUDGET, start_idx, NO_TIME=False):\n",
        "    MIN_PENALITY = 3\n",
        "    MAX_PENALITY = 1\n",
        "    days_offset = 96\n",
        "    end_idx = start_idx + days_offset*7\n",
        "    \n",
        "    depart = time.time()\n",
        "    \n",
        "    Tin = cp.Variable(end_idx - start_idx) # température\n",
        "    x = cp.Variable(end_idx - start_idx) # énergie\n",
        "    \n",
        "    T0 = 20\n",
        "    \n",
        "    contraintes = [Tin[0] == T0]\n",
        "    cout_elec = [NIGHT_COST  if is_night(start_idx) else DAY_COST]\n",
        "    \n",
        "    for i in range(1, end_idx - start_idx):\n",
        "        cout_elec.append(NIGHT_COST) if is_night(i + start_idx) else cout_elec.append(DAY_COST)\n",
        "        \n",
        "        T1 = -(1 - ETA) * (Tin[i-1] - temperatures_exterieurs[i+ start_idx]) + Tin[i-1]\n",
        "        \n",
        "        degre_a_compenser = degree_to_get(20, temperatures_exterieurs[i+ start_idx], x[i])\n",
        "        \n",
        "        contraintes.append(T1 + degre_a_compenser == Tin[i])\n",
        "        \n",
        "        contraintes.append(x[i] <= MAX_ENERGY)\n",
        "        contraintes.append(x[i] >= -MAX_ENERGY)\n",
        "    \n",
        "    contraintes.append(cp.sum(cp.multiply(cout_elec, cp.abs(x))) <= MAX_BUDGET)\n",
        "    \n",
        "    inconfort_func = lambda T : MIN_PENALITY * cp.maximum(MIN_TEMP - T, 0) + MAX_PENALITY * cp.maximum(T - MAX_TEMP , 0)\n",
        "    \n",
        "    minimise_function = cp.sum(list(map(inconfort_func, Tin)))\n",
        "    \n",
        "    solution = cp.Problem(cp.Minimize(minimise_function), contraintes)\n",
        "    solution.solve()\n",
        "    \n",
        "    fin = time.time() - depart\n",
        "    \n",
        "    print(f\"L'inconfort minimal avec un budget de {MAX_BUDGET} $ est de {solution.value}\")\n",
        "    \n",
        "    if(not NO_TIME):\n",
        "        print(f\"Temps de calcul : {fin} s\")    \n",
        "    \n",
        "    return (solution.value, Tin, x.value, fin)"
      ]
    },
    {
      "cell_type": "code",
      "execution_count": null,
      "id": "1b7cb1c3",
      "metadata": {
        "id": "1b7cb1c3",
        "outputId": "c2dd2ec5-e24e-425b-da56-a79efbc277e3"
      },
      "outputs": [],
      "source": [
        "#On prend 90% du min_cost de la tâche 1\n",
        "max_budget = min_cost - 10*min_cost/100\n",
        "max_budget_2 = min_cost2 - 10*min_cost2/100\n",
        "\n",
        "min_inconfort, temperature_in, énergie, _ = task_2(max_budget, 13050)\n",
        "print()\n",
        "min_inconfort2, temperature_in2, énergie2, _ = task_2(max_budget_2, 18500)"
      ]
    },
    {
      "cell_type": "code",
      "execution_count": null,
      "id": "4d75539d",
      "metadata": {
        "id": "4d75539d",
        "outputId": "0912329e-7ff3-4587-9f77-824bf4c74eaa",
        "scrolled": false
      },
      "outputs": [],
      "source": [
        "display_temperature(temperature_in, temperature_ext, 13050)\n",
        "display_temperature(temperature_in2, temperature_ext, 18500)"
      ]
    },
    {
      "cell_type": "code",
      "execution_count": null,
      "id": "f9015d3e",
      "metadata": {
        "id": "f9015d3e",
        "outputId": "f064b768-bf73-499e-8436-46fd5a22c0bd"
      },
      "outputs": [],
      "source": [
        "display_energy(énergie)\n",
        "display_energy(énergie2)"
      ]
    },
    {
      "attachments": {},
      "cell_type": "markdown",
      "id": "33c80dca",
      "metadata": {
        "id": "33c80dca"
      },
      "source": [
        "# Commentaire\n",
        "Nous avons fixé le budget à 90% du coût minimal trouvé à la tâche 1. On remarque sur le graphe que la température intérieure garde la même “forme générale” en prenant parfois des valeurs plus extrêmes vu qu’on ne doit pas strictement respecter l'intervalle [19; 21]. On remarque aussi que la pompe est moins souvent utilisée à cause de la limite de budget."
      ]
    },
    {
      "attachments": {},
      "cell_type": "markdown",
      "id": "946779fe",
      "metadata": {
        "id": "946779fe"
      },
      "source": [
        "# Tâche 3 \n",
        "\n",
        "## Objectif\n",
        "Proposer et générer un graphe représentant la relation entre budget et inconfort."
      ]
    },
    {
      "cell_type": "code",
      "execution_count": null,
      "id": "886ad97b",
      "metadata": {
        "id": "886ad97b",
        "outputId": "90f629b8-f8df-4cf6-cd63-84fcfbb212f0"
      },
      "outputs": [],
      "source": [
        "#Calcul des données nécessaires\n",
        "inconfort_total_sur_8_budgets_ref = []\n",
        "inconfort_total_sur_8_budgets_2 = []\n",
        "\n",
        "budget = [0, 1, 2, 3, 4, 5, 6, 7, 8]\n",
        "print(budget)\n",
        "\n",
        "total_time_budget_1 = 0\n",
        "total_time_budget_2 = 0\n",
        "\n",
        "for i in range(9):\n",
        "    min_inconfort, temperature_in, énergie, _ \n",
        "    budget_1 = task_2(budget[i], 13050, NO_TIME=True)\n",
        "    budget_2 = task_2(budget[i], 18500, NO_TIME=True)\n",
        "    \n",
        "    total_time_budget_1 += budget_1[3]\n",
        "    total_time_budget_2 += budget_2[3]\n",
        "    \n",
        "    inconfort_total_sur_8_budgets_ref.append(budget_1[0])\n",
        "    inconfort_total_sur_8_budgets_2.append(budget_2[0])\n",
        "\n",
        "mean_time_budget_1 = total_time_budget_1 / len(budget)\n",
        "mean_time_budget_2 = total_time_budget_2 / len(budget)\n",
        "\n",
        "print(f\"Temps total pour la première plage : {total_time_budget_1} s\")\n",
        "print(f\"Temps moyens pour la première plage : {mean_time_budget_1} s\")\n",
        "\n",
        "print()\n",
        "\n",
        "print(f\"Temps total pour la deuxième plage : {total_time_budget_2} s\")\n",
        "print(f\"Temps moyens pour la deuxième plage : {mean_time_budget_2} s\")"
      ]
    },
    {
      "cell_type": "code",
      "execution_count": null,
      "id": "f3772dad",
      "metadata": {
        "id": "f3772dad",
        "outputId": "18144080-83be-41b4-d014-d4e1ae0b8b09"
      },
      "outputs": [],
      "source": [
        "display_inconfort_budget(inconfort_total_sur_8_budgets_ref, budget)\n",
        "display_inconfort_budget(inconfort_total_sur_8_budgets_2, budget)"
      ]
    },
    {
      "attachments": {},
      "cell_type": "markdown",
      "id": "ab372edd",
      "metadata": {
        "id": "ab372edd"
      },
      "source": [
        "# Commentaire\n",
        "On remarque très nettement que l’inconfort total est inversement proportionnel au budget. Ce qui est totalement logique puisque la pompe peut être davantage utilisée pour maintenir une température optimale lorsqu’on a le budget pour lui permettre de tourner."
      ]
    },
    {
      "attachments": {},
      "cell_type": "markdown",
      "id": "97b7d103",
      "metadata": {
        "id": "97b7d103"
      },
      "source": [
        "# Partie 2"
      ]
    },
    {
      "attachments": {},
      "cell_type": "markdown",
      "id": "5f733c78",
      "metadata": {
        "id": "5f733c78"
      },
      "source": [
        "Une diminution de $T_{min}$ et un augmentation de $T_{max}$ affecteraient notre résultat. En effet il faudrait activer moins de fois la pompe à chaleure dans le cas général. \n",
        "\n",
        "On peut donc affirmer qu'une diminution de $T_{min}$ et un augmentation de $T_{max}$ diminuerait/n'augmente pas le coût minimal.\n",
        "\n",
        "$c^{*} \\leq c$ \\\n",
        "\\\n",
        "où $c^{*}$ est le coût après diminution de $T_{min}$ et augmentation de $T_{max}$ \\\n",
        "et c est le coût sans changement de borne"
      ]
    },
    {
      "cell_type": "code",
      "execution_count": null,
      "id": "792f1cbd",
      "metadata": {
        "id": "792f1cbd"
      },
      "outputs": [],
      "source": [
        "MIN_POWER = 0.25"
      ]
    },
    {
      "cell_type": "code",
      "execution_count": null,
      "id": "c384aba0",
      "metadata": {
        "id": "c384aba0"
      },
      "outputs": [],
      "source": [
        "def part2_task_1(i_idx, CONTINIOUS_HOUR=0):\n",
        "    depart = time.time()\n",
        "    end_idx = i_idx + 96*7\n",
        "\n",
        "    cout_intervalle = [NIGHT_COST if is_night(i_idx) else DAY_COST]\n",
        "    \n",
        "    T0 = 20 # température de départ\n",
        "    \n",
        "    # Par simplicité on divise les deux énergies en deux variables différentes\n",
        "    x = cp.Variable(end_idx-i_idx)\n",
        "    y = cp.Variable(end_idx-i_idx)\n",
        "    \n",
        "    a = cp.Variable(end_idx-i_idx, boolean=True)\n",
        "    b = cp.Variable(end_idx-i_idx, boolean=True)\n",
        "    \n",
        "    Tin = cp.Variable(end_idx-i_idx)\n",
        "    \n",
        "    contraintes = [\n",
        "        Tin[0] == T0, \n",
        "        Tin[end_idx-i_idx-1] == T0\n",
        "    ]\n",
        "    \n",
        "\n",
        "    for i in range(1, end_idx-i_idx):\n",
        "        cout_intervalle.append(NIGHT_COST) if is_night(i + i_idx) else cout_intervalle.append(DAY_COST)\n",
        "\n",
        "        T1 = -(1 - ETA) * (Tin[i-1] - temperatures_exterieurs[i+ i_idx]) + Tin[i-1] #température initiale suivante\n",
        "        \n",
        "        \n",
        "        COP_TEX = 3 + 10 * abs(np.tanh(temperatures_exterieurs[i+ i_idx]/100)) * np.tanh(temperatures_exterieurs[i+ i_idx]/100)\n",
        "       \n",
        "        degre_a_compenser_chauffage = COP_TEX * CAPACITE_CALORIFIQUE * x[i]\n",
        "        degre_a_compenser_refroidissement = (COP_CONST * CAPACITE_CALORIFIQUE * y[i]) \n",
        "        \n",
        "        # Contrainte de degrée\n",
        "        contraintes.append((T1 + degre_a_compenser_chauffage - degre_a_compenser_refroidissement == Tin[i]))\n",
        "        contraintes.append(-Tin[i] <= -MIN_TEMP)\n",
        "        contraintes.append(Tin[i] <= MAX_TEMP)\n",
        "\n",
        "        \n",
        "        contraintes.append(x[i] <= MAX_ENERGY * a[i])\n",
        "        contraintes.append(x[i] >= MIN_POWER * MAX_ENERGY * a[i])\n",
        "        \n",
        "        contraintes.append(y[i] <= MAX_ENERGY * b[i])\n",
        "        contraintes.append(y[i] >=  MIN_POWER * MAX_ENERGY * b[i])\n",
        "\n",
        "    if CONTINIOUS_HOUR != 0:\n",
        "        indx = 0\n",
        "        while indx < 96*7:\n",
        "            for i in range(CONTINIOUS_HOUR-1):\n",
        "                contraintes.append(a[indx] == a[indx+1])\n",
        "                contraintes.append(b[indx] == b[indx+1])\n",
        "                indx += 1\n",
        "            indx+=1\n",
        "\n",
        "    fonction_cout = cp.sum(cp.multiply(cout_intervalle, cp.abs(x))) + cp.sum(cp.multiply(cout_intervalle, cp.abs(y)))\n",
        "    solution = cp.Problem(cp.Minimize(fonction_cout), contraintes)\n",
        "    solution.solve(solver=cp.SCIPY, scipy_options={\"method\": \"highs\"})\n",
        "\n",
        "    fin = time.time() - depart\n",
        "    #cout_intervalle = x.value * cout_intervalle\n",
        "    \n",
        "    print(f\"Le coût minimal pour l'instance {i_idx} est de {solution.value} $\")\n",
        "    print(f\"Temps de calcul : {fin} s\")\n",
        "    \n",
        "    return (solution.value, Tin, temperatures_exterieurs, x.value, y.value, fin)"
      ]
    },
    {
      "cell_type": "code",
      "execution_count": null,
      "id": "5450c7ea",
      "metadata": {
        "colab": {
          "base_uri": "https://localhost:8080/"
        },
        "id": "5450c7ea",
        "outputId": "302b4260-ed1e-4c6b-d23c-11f1cd01e0f7",
        "scrolled": false
      },
      "outputs": [],
      "source": [
        "min_cost, temperature_in, temperature_ext, énergie_chaud, énergie_froid, _ = part2_task_1(13050, CONTINIOUS_HOUR=2)"
      ]
    },
    {
      "cell_type": "code",
      "execution_count": null,
      "id": "d1a54fd7",
      "metadata": {
        "colab": {
          "base_uri": "https://localhost:8080/",
          "height": 474
        },
        "id": "d1a54fd7",
        "outputId": "e80f3509-9b74-4fb8-e795-1e71c4ae8609",
        "scrolled": true
      },
      "outputs": [],
      "source": [
        "display_energy_separated(énergie_chaud, énergie_froid, BOUNDARY=MIN_POWER * MAX_ENERGY)"
      ]
    },
    {
      "cell_type": "code",
      "execution_count": null,
      "id": "b408d1d4",
      "metadata": {
        "id": "b408d1d4"
      },
      "outputs": [],
      "source": []
    },
    {
      "attachments": {},
      "cell_type": "markdown",
      "id": "cf1033c7",
      "metadata": {},
      "source": [
        "# Tâche 2 \n",
        "\n",
        "## Variables de décision\n",
        "Soit $I_i$ l'inconfort à l'intervalle $i$. \\\n",
        "Soit $c_i$ le coût à l'intervalle $i$.\n",
        "## Objectif\n",
        "Minimiser l'inconfort total\n",
        "$\\sum_{i = 0}^{n} I_i$  sachant que l'inconfort à l'intervalle $i$ peut être définis comme ceci :\n",
        "$\n",
        "\\begin{cases}\n",
        "I_i = I_i + 3 * (T\\_min - T_i)^2 & T_i < T\\_min \\\\\n",
        "I_i = I_i + 1 * (T_i - T\\_max)^2 & T_i > T\\_max \\\\\n",
        "0 & sinon\\\\\n",
        "\\end{cases}\n",
        "$\n",
        "\\\n",
        "\\\n",
        "\\\n",
        "On peut également la noter d'une manière moin conditionelle. En effet, on aimerait considérer uniquement $T_i \\ge T\\_max$, et rien dans le cas contraire. Grâce à la fonction max on peut transformer ce système en simple équation du style.\\\n",
        "$\n",
        "I_i = 3 * (T\\_min - T_i)^2 * max(T\\_min - T_i, 0) + 1 * (T_i - T\\_max)^2 * max(T_i - T\\_max, 0) \n",
        "$\n",
        "\n",
        "## Contraintes\n",
        "$\\sum_{i = 0}^{n} c_i \\leq$ MAX\\_BUDGET\n",
        "\n",
        "\n",
        "\n",
        "\n",
        "\n",
        "\n",
        "\n",
        "L'inconfort à l'intervalle $i$ peut être approximé en utilisant une approximation basée sur des tangentes. L'idée est d'approximer la fonction non linéaire par des segments linéaires. On peut utiliser une approximation par tangentes avec un nombre donné de segments, par exemple 5 segments. Pour chaque segment, on approxime la fonction par une tangente reliant les deux points extrêmes du segment.\n",
        "\n",
        "On peut approximer l'inconfort $I_i$ en utilisant des tangentes de la manière suivante :\n",
        "\n",
        "$\n",
        "I_i = 3 \\cdot (T_{\\text{min}} - T_i)^2 \\cdot \\max(T_{\\text{min}} - T_i, 0) + 1 \\cdot (T_i - T_{\\text{max}})^2 \\cdot \\max(T_i - T_{\\text{max}}, 0)\n",
        "$\n",
        "\n"
      ]
    },
    {
      "cell_type": "code",
      "execution_count": null,
      "id": "af45d1f5",
      "metadata": {},
      "outputs": [],
      "source": [
        "def part2_task_2_1(MAX_BUDGET, start_idx, NO_TIME=False):\n",
        "    \"\"\"\n",
        "    MIN_PENALITY = 3\n",
        "    MAX_PENALITY = 1\n",
        "    NUM_SEGMENTS = 5\n",
        "    days_offset = 96\n",
        "    end_idx = start_idx + days_offset*7\n",
        "    \n",
        "    depart = time.time()\n",
        "    \n",
        "    Tin = cp.Variable(shape=(end_idx - start_idx,)) # température\n",
        "    x = cp.Variable(end_idx - start_idx) # énergie\n",
        "    \n",
        "    T0 = 20\n",
        "    \n",
        "    contraintes = [Tin[0] == T0]\n",
        "    cout_elec = [NIGHT_COST if is_night(start_idx) else DAY_COST]\n",
        "    \n",
        "    for i in range(1, end_idx - start_idx):\n",
        "        cout_elec.append(NIGHT_COST) if is_night(i + start_idx) else cout_elec.append(DAY_COST)\n",
        "        \n",
        "        T1 = -(1 - ETA) * (Tin[i-1] - temperatures_exterieurs[i+ start_idx]) + Tin[i-1]\n",
        "        \n",
        "        degre_a_compenser = degree_to_get(20, temperatures_exterieurs[i+ start_idx], x[i])\n",
        "        \n",
        "        contraintes.append(T1 + degre_a_compenser == Tin[i])\n",
        "        \n",
        "        contraintes.append(x[i] <= MAX_ENERGY)\n",
        "        contraintes.append(x[i] >= -MAX_ENERGY)\n",
        "    \n",
        "    contraintes.append(cp.sum(cp.multiply(cout_elec, cp.abs(x)), axis=0) <= MAX_BUDGET)\n",
        "    \n",
        "    segments = cp.linspace(MIN_TEMP, MAX_TEMP, NUM_SEGMENTS + 1)\n",
        "    segment_policies = []\n",
        "    \n",
        "    for i in range(NUM_SEGMENTS):\n",
        "        segment_min_temp = segments[i]\n",
        "        segment_max_temp = segments[i + 1]\n",
        "        \n",
        "        segment_min_p = MIN_PENALITY * (MIN_TEMP - segment_min_temp) ** 2\n",
        "        segment_max_p = MAX_PENALITY * (segment_max_temp - MAX_TEMP) ** 2\n",
        "        \n",
        "        segment_penalty = cp.minimum(segment_min_p, segment_max_p)\n",
        "        \n",
        "        segment_slope = 2 * MIN_PENALITY * (MIN_TEMP - segment_min_temp)\n",
        "        \n",
        "        segment_policies.append(segment_slope * (Tin - segment_min_temp) + segment_penalty)\n",
        "    \n",
        "    objective = cp.sum(segment_policies)\n",
        "    \n",
        "    solution = cp.Problem(cp.Minimize(objective), contraintes)\n",
        "    solution.solve()\n",
        "    \n",
        "    fin = time.time() - depart\n",
        "    \n",
        "    print(f\"L'inconfort minimal avec un budget de {MAX_BUDGET} $ est de {solution.value}\")\n",
        "    \n",
        "    if not NO_TIME:\n",
        "        print(f\"Temps de calcul : {fin} s\")    \n",
        "    \n",
        "    return solution.value, Tin, x.value, fin\n",
        "    \"\"\"\n",
        "    MIN_PENALTY = 3\n",
        "    MAX_PENALTY = 1\n",
        "    NUM_SEGMENTS = 5\n",
        "    days_offset = 96\n",
        "    end_idx = start_idx + days_offset * 7\n",
        "\n",
        "    depart = time.time()\n",
        "\n",
        "    Tin = cp.Variable(shape=(end_idx - start_idx,))  # température\n",
        "    x = cp.Variable(end_idx - start_idx)  # énergie\n",
        "\n",
        "    T0 = 20\n",
        "\n",
        "    contraintes = [Tin[0] == T0]\n",
        "    cout_elec = [NIGHT_COST if is_night(start_idx) else DAY_COST]\n",
        "\n",
        "    for i in range(1, end_idx - start_idx):\n",
        "        cout_elec.append(NIGHT_COST) if is_night(i + start_idx) else cout_elec.append(DAY_COST)\n",
        "\n",
        "        T1 = -(1 - ETA) * (Tin[i - 1] - temperatures_exterieurs[i + start_idx]) + Tin[i - 1]\n",
        "\n",
        "        degre_a_compenser = degree_to_get(20, temperatures_exterieurs[i + start_idx], x[i])\n",
        "\n",
        "        contraintes.append(T1 + degre_a_compenser == Tin[i])\n",
        "\n",
        "        contraintes.append(x[i] <= MAX_ENERGY)\n",
        "        contraintes.append(x[i] >= -MAX_ENERGY)\n",
        "\n",
        "    contraintes.append(cp.sum(cp.multiply(cout_elec, cp.abs(x)), axis=0) <= MAX_BUDGET)\n",
        "\n",
        "    segments = np.linspace(MIN_TEMP, MAX_TEMP, NUM_SEGMENTS + 1)\n",
        "    segment_policies = []\n",
        "\n",
        "    for i in range(NUM_SEGMENTS):\n",
        "        segment_min_temp = segments[i]\n",
        "        segment_max_temp = segments[i + 1]\n",
        "\n",
        "        segment_min_p = MIN_PENALTY * (MIN_TEMP - segment_min_temp) ** 2\n",
        "        segment_max_p = MAX_PENALTY * (segment_max_temp - MAX_TEMP) ** 2\n",
        "\n",
        "        segment_penalty = cp.minimum(segment_min_p, segment_max_p)\n",
        "\n",
        "        segment_slope = 2 * MIN_PENALTY * (MIN_TEMP - segment_min_temp)\n",
        "\n",
        "        segment_policies.append(cp.maximum(segment_slope * (Tin - segment_min_temp), 0) + segment_penalty)\n",
        "\n",
        "    segment_objective = cp.sum(segment_policies)\n",
        "    objective = cp.sum(segment_objective)\n",
        "\n",
        "    solution = cp.Problem(cp.Minimize(objective), contraintes)\n",
        "    solution.solve()\n",
        "\n",
        "    fin = time.time() - depart\n",
        "\n",
        "    print(f\"L'inconfort minimal avec un budget de {MAX_BUDGET} $ est de {solution.value}\")\n",
        "\n",
        "    if not NO_TIME:\n",
        "        print(f\"Temps de calcul : {fin} s\")\n",
        "\n",
        "    return solution.value, Tin, x.value, fin"
      ]
    },
    {
      "cell_type": "code",
      "execution_count": null,
      "id": "08675e3a",
      "metadata": {},
      "outputs": [],
      "source": [
        "def part2_task_2_2(MAX_BUDGET, start_idx, NO_TIME=False):\n",
        "    \"\"\"\n",
        "    MIN_PENALITY = 3\n",
        "    MAX_PENALITY = 1\n",
        "    days_offset = 96\n",
        "    end_idx = start_idx + days_offset*7\n",
        "    \n",
        "    depart = time.time()\n",
        "    \n",
        "    Tin = cp.Variable(end_idx - start_idx) # température\n",
        "    x = cp.Variable(end_idx - start_idx) # énergie\n",
        "    \n",
        "    T0 = 20\n",
        "    \n",
        "    contraintes = [Tin[0] == T0]\n",
        "    cout_elec = [NIGHT_COST  if is_night(start_idx) else DAY_COST]\n",
        "    \n",
        "    for i in range(1, end_idx - start_idx):\n",
        "        cout_elec.append(NIGHT_COST) if is_night(i + start_idx) else cout_elec.append(DAY_COST)\n",
        "        \n",
        "        T1 = -(1 - ETA) * (Tin[i-1] - temperatures_exterieurs[i+ start_idx]) + Tin[i-1]\n",
        "        \n",
        "        degre_a_compenser = degree_to_get(20, temperatures_exterieurs[i+ start_idx], x[i])\n",
        "        \n",
        "        contraintes.append(T1 + degre_a_compenser == Tin[i])\n",
        "        \n",
        "        contraintes.append(x[i] <= MAX_ENERGY)\n",
        "        contraintes.append(x[i] >= -MAX_ENERGY)\n",
        "    \n",
        "    contraintes.append(cp.sum(cp.multiply(cout_elec, cp.abs(x))) <= MAX_BUDGET)\n",
        "    \n",
        "    inconfort_func = lambda T : MIN_PENALITY * (MIN_TEMP - T)**2 * cp.maximum(MIN_TEMP - T, 0) + MAX_PENALITY * (T - MAX_TEMP) * cp.maximum(T - MAX_TEMP , 0)\n",
        "    \n",
        "    minimise_function = cp.sum(list(map(inconfort_func, Tin)))\n",
        "    \n",
        "    solution = cp.Problem(cp.Minimize(minimise_function), contraintes)\n",
        "    solution.solve()\n",
        "    \n",
        "    fin = time.time() - depart\n",
        "    \n",
        "    print(f\"L'inconfort minimal avec un budget de {MAX_BUDGET} $ est de {solution.value}\")\n",
        "    \n",
        "    if(not NO_TIME):\n",
        "        print(f\"Temps de calcul : {fin} s\")    \n",
        "    \n",
        "    return (solution.value, Tin, x.value, fin)\n",
        "    \"\"\"\n",
        "    MIN_PENALTY = 3\n",
        "    MAX_PENALTY = 1\n",
        "    days_offset = 96\n",
        "    end_idx = start_idx + days_offset * 7\n",
        "\n",
        "    depart = time.time()\n",
        "\n",
        "    Tin = cp.Variable(end_idx - start_idx)  # température\n",
        "    x = cp.Variable(end_idx - start_idx)  # énergie\n",
        "\n",
        "    T0 = 20\n",
        "\n",
        "    contraintes = [Tin[0] == T0]\n",
        "    cout_elec = [NIGHT_COST if is_night(start_idx) else DAY_COST]\n",
        "\n",
        "    for i in range(1, end_idx - start_idx):\n",
        "        cout_elec.append(NIGHT_COST) if is_night(i + start_idx) else cout_elec.append(DAY_COST)\n",
        "\n",
        "        T1 = -(1 - ETA) * (Tin[i - 1] - temperatures_exterieurs[i + start_idx]) + Tin[i - 1]\n",
        "\n",
        "        degre_a_compenser = degree_to_get(20, temperatures_exterieurs[i + start_idx], x[i])\n",
        "\n",
        "        contraintes.append(T1 + degre_a_compenser == Tin[i])\n",
        "\n",
        "        contraintes.append(x[i] <= MAX_ENERGY)\n",
        "        contraintes.append(x[i] >= -MAX_ENERGY)\n",
        "\n",
        "    contraintes.append(cp.sum(cp.multiply(cout_elec, cp.abs(x))) <= MAX_BUDGET)\n",
        "\n",
        "    inconfort_func = lambda T: MIN_PENALTY * (MIN_TEMP - T) ** 2 + MAX_PENALTY * (T - MAX_TEMP) ** 2\n",
        "    minimise_function = cp.sum(list(map(inconfort_func, Tin)))\n",
        "\n",
        "    solution = cp.Problem(cp.Minimize(minimise_function), contraintes)\n",
        "    solution.solve(solver=cp.ECOS)\n",
        "\n",
        "    fin = time.time() - depart\n",
        "\n",
        "    print(f\"L'inconfort minimal avec un budget de {MAX_BUDGET} $ est de {solution.value}\")\n",
        "\n",
        "    if not NO_TIME:\n",
        "        print(f\"Temps de calcul : {fin} s\")\n",
        "\n",
        "    return solution.value, Tin, x.value, fin"
      ]
    },
    {
      "cell_type": "code",
      "execution_count": null,
      "id": "d90a5816",
      "metadata": {},
      "outputs": [],
      "source": [
        "min_inconfort_2_1, temperature_in_2_1, énergie_2_1, _ = part2_task_2_1(max_budget, 13050)\n",
        "print()\n",
        "min_inconfort_2_2, temperature_in_2_2, énergie_2_2, _ = part2_task_2_2(max_budget_2, 18500)"
      ]
    },
    {
      "cell_type": "code",
      "execution_count": null,
      "id": "bf37b980",
      "metadata": {},
      "outputs": [],
      "source": [
        "display_temperature(temperature_in_2_1, temperature_ext, 13050)\n",
        "display_temperature(temperature_in_2_2, temperature_ext, 18500)"
      ]
    },
    {
      "cell_type": "code",
      "execution_count": null,
      "id": "eac3ee38",
      "metadata": {},
      "outputs": [],
      "source": [
        "display_energy(énergie_2_1)\n",
        "display_energy(énergie_2_2)"
      ]
    }
  ],
  "metadata": {
    "colab": {
      "provenance": []
    },
    "kernelspec": {
      "display_name": "Python 3 (ipykernel)",
      "language": "python",
      "name": "python3"
    },
    "language_info": {
      "codemirror_mode": {
        "name": "ipython",
        "version": 3
      },
      "file_extension": ".py",
      "mimetype": "text/x-python",
      "name": "python",
      "nbconvert_exporter": "python",
      "pygments_lexer": "ipython3",
      "version": "3.10.6"
    }
  },
  "nbformat": 4,
  "nbformat_minor": 5
}
