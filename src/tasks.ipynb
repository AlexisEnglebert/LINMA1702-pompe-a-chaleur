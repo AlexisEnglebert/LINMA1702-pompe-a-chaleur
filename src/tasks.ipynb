{
 "cells": [
  {
   "cell_type": "markdown",
   "id": "2c623b73",
   "metadata": {},
   "source": [
    "# Imports"
   ]
  },
  {
   "cell_type": "code",
   "execution_count": 1,
   "id": "2e80591a",
   "metadata": {},
   "outputs": [],
   "source": [
    "import numpy as np # Pour les math\n",
    "import matplotlib.pyplot as plt # Pour les graphiques\n",
    "import cvxpy as cp\n",
    "import time\n",
    "from scipy.optimize import linprog # Notre solveur"
   ]
  },
  {
   "cell_type": "markdown",
   "id": "dcd93acf",
   "metadata": {},
   "source": [
    "# Données et Utils"
   ]
  },
  {
   "cell_type": "code",
   "execution_count": 16,
   "id": "2194d314",
   "metadata": {},
   "outputs": [],
   "source": [
    "# NOS CONSTANTES POUR TOUT LE PROJET : \n",
    "COP_CONST = 3.2\n",
    "CAPACITE_CALORIFIQUE = 0.4\n",
    "MIN_TEMP = 19\n",
    "MAX_TEMP = 21\n",
    "ETA  = 0.99"
   ]
  },
  {
   "cell_type": "code",
   "execution_count": 17,
   "id": "6afd68b3",
   "metadata": {},
   "outputs": [],
   "source": [
    "def is_night(idx):\n",
    "    days_offset = 96\n",
    "    day = (idx % days_offset)\n",
    "    return True if day > 88 or day < 28 else False\n",
    "\n",
    "\n",
    "def degree_to_get(reference, outside_temperature , x_i):\n",
    "    \n",
    "    if (reference < outside_temperature):\n",
    "        return (COP_CONST * CAPACITE_CALORIFIQUE * x_i) \n",
    "    else:\n",
    "        COP_TEX = 3 + 10 * abs(np.tanh(outside_temperature/100)) * np.tanh(outside_temperature/100)\n",
    "        return (COP_TEX * CAPACITE_CALORIFIQUE * x_i)"
   ]
  },
  {
   "cell_type": "code",
   "execution_count": 18,
   "id": "32f8081c",
   "metadata": {
    "scrolled": true
   },
   "outputs": [],
   "source": [
    "temperatures_exterieurs = np.load(\"Temperatures-Montreal.npy\")"
   ]
  },
  {
   "cell_type": "markdown",
   "id": "c9ed6117",
   "metadata": {},
   "source": [
    "# Fonctions d'affichache"
   ]
  },
  {
   "cell_type": "code",
   "execution_count": 19,
   "id": "da70dde0",
   "metadata": {},
   "outputs": [],
   "source": [
    "def display_temperature(Tin, temperatures_exterieurs, start_idx):\n",
    "    axe_x = range(672)\n",
    "    \n",
    "    fig, ax = plt.subplots()\n",
    "    ax.add_patch(plt.Rectangle((0, MIN_TEMP), 672, (MAX_TEMP - MIN_TEMP), alpha=.2))\n",
    "    ax.plot(axe_x, Tin.value, label=\"Temperature intérieur\", color=\"red\")\n",
    "    ax.plot(axe_x, temperatures_exterieurs[start_idx:start_idx+672], label=\"Temperature extérieur\", color=\"black\")\n",
    "\n",
    "    plt.legend()\n",
    "    plt.title(\"Comparaison entre la température extérieur et intérieur\")\n",
    "    plt.xlabel(\"Intervalle de temps de 15 minutes\")\n",
    "    plt.show()\n",
    "\n",
    "\n",
    "def display_energy(valeur_energie):\n",
    "    axe_x = range(672)\n",
    "    refroidissement = []\n",
    "    rechauffement = []\n",
    "    \n",
    "    for i in valeur_energie:\n",
    "        if i < 0:\n",
    "            refroidissement.append(i)\n",
    "            rechauffement.append(0)\n",
    "        else:\n",
    "            rechauffement.append(i)\n",
    "            refroidissement.append(0)\n",
    "    fig, ax = plt.subplots()\n",
    "    ax.bar(axe_x, rechauffement, label=\"Pour réchauffer\", color=\"red\")\n",
    "    ax.bar(axe_x, refroidissement, label=\"Pour refroidir\", color=\"black\")\n",
    "    plt.legend()\n",
    "    plt.title(\"Énergie utilisée par la pompe à chaleur\")\n",
    "    plt.xlabel(\"Intervalle de temps de 15 minutes\")\n",
    "    plt.show()\n",
    "    \n",
    "#Création du graphe\n",
    "def display_inconfort_budget(list_inconfort, list_budget):\n",
    "    axe_x = range(8)\n",
    "    fig, ax = plt.subplots()\n",
    "    ax.bar(axe_x, list_inconfort, label=\"Inconfort total\", color=\"red\")\n",
    "    plt.legend()\n",
    "    plt.title(\"Inconfort total en fonction du budget alloué\")\n",
    "    plt.xlabel(\"Budget\")\n",
    "    plt.show()"
   ]
  },
  {
   "cell_type": "markdown",
   "id": "d8da3cde",
   "metadata": {},
   "source": [
    "# Résolution du système\n",
    "## Variables de décison\n",
    "Soit $x_i$ l'énergie utiliser en mode normale par la pompe à chaleur à l'intervalle de temps i. \\\n",
    "\n",
    "## Objectif \n",
    "Minimiser le coût total de l'électricité consommée par la pompe à chaleur. \\\n",
    "\n",
    "Fonction objective: \\\n",
    "min $c^T * abs(x_i)$\n",
    "\n",
    "où c_i est le coût de l'électricité à l'intervalle de temps i. \\\n",
    "$c_i = 0.18$ si c'est la nuit \\\n",
    "ou \\\n",
    "$c_i = 0.26$ si c'est le jour \\\n",
    "et où $abs(x_i)$ est l'énergie utilisée.\n",
    "\n",
    "## Contraintes\n",
    "$x_i \\le (1)$ \\\n",
    "$x_i \\ge (-1)$ \\\n",
    "$x_i \\ge (19-t_i)*(1/0.4)*(1/COP_{xi})$ \\\n",
    "$x_i \\le (21-t_i)*(1/0.4)*(1/COP_{xi})$ \\\n",
    "$x_i \\ge -(21-t_i)*(1/0.4)*(1/3.2)$ \\\n",
    "$x_i \\le -(19-t_i)*(1/0.4)*(1/3.2)$ \\\n",
    "$t_{{in}_{i+1}} - t_{{in}_i} = -0.01 * (t_{{in}_i} - t_{{ex}_i})$ \\\n",
    "$COP_{xi} = 3 + 10 * abs(tanh(t_{{ex}_i}/100)) * tanh(t_{{ex}_i}/100)$ \\\n",
    "où $t_{{in}_i}$ est la température intérieur initiale à l'intervalle de temps i, $COP_{xi}$ le coefficent de performance de la pompe à chaleur en mode normal à l'intervalle de temps i, $t_{{in}_{i+1}}$ la température à l'intérieur après avoir utilisé (ou non) la pompe à chaleur à l'intervalle de temps i et $t_{{ex}_i}$ est la température extérieur de Montréal à l'intervalle de temps i.\n",
    "\n",
    "\n",
    "# Système entier\n"
   ]
  },
  {
   "cell_type": "code",
   "execution_count": 20,
   "id": "864e7b0f",
   "metadata": {},
   "outputs": [],
   "source": [
    "def task_1(i_idx):\n",
    "    depart = time.time()\n",
    "    end_idx = i_idx + 96*7\n",
    "\n",
    "    cout_intervalle = [0.18 if is_night(i_idx) else 0.26]\n",
    "    \n",
    "    T0 = 20 # température de départ\n",
    "    \n",
    "    x = cp.Variable(end_idx-i_idx)\n",
    "    Tin = cp.Variable(end_idx-i_idx)\n",
    "    \n",
    "    contraintes = [\n",
    "        Tin[0] == T0, \n",
    "        Tin[end_idx-i_idx-1] == T0\n",
    "    ]\n",
    "    \n",
    "    for i in range(1, end_idx-i_idx):\n",
    "        cout_intervalle.append(0.18) if is_night(i + i_idx) else cout_intervalle.append(0.26)\n",
    "\n",
    "        T1 = -(1 - ETA) * (Tin[i-1] - temperatures_exterieurs[i+ i_idx]) + Tin[i-1] #température initial suivante\n",
    "        \n",
    "        degre_a_compenser = degree_to_get(20, temperatures_exterieurs[i+ i_idx], x[i])\n",
    "        \n",
    "        # Contrainte de degrée\n",
    "        contraintes.append((T1 + degre_a_compenser == Tin[i]))\n",
    "        contraintes.append(-Tin[i] <= -MIN_TEMP)\n",
    "        contraintes.append(Tin[i] <= MAX_TEMP)\n",
    "        \n",
    "        # Contrainte d'énergie\n",
    "        contraintes.append(x[i] <= 1)\n",
    "        contraintes.append(x[i] >= -1)\n",
    "\n",
    "    fonction_cout = cp.sum(cp.multiply(cout_intervalle, cp.abs(x)))\n",
    "    solution = cp.Problem(cp.Minimize(fonction_cout), contraintes)\n",
    "    solution.solve()\n",
    "\n",
    "    fin = time.time() - depart\n",
    "    cout_intervalle = x.value * cout_intervalle\n",
    "    \n",
    "    print(f\"Le coût minimal est pour l'intance {i_idx} est: {solution.value} \")\n",
    "    print(f\"Temps de calcul:  {fin} \")    \n",
    "\n",
    "    return (solution.value, Tin, temperatures_exterieurs, x.value)"
   ]
  },
  {
   "cell_type": "code",
   "execution_count": 21,
   "id": "7468712e",
   "metadata": {
    "scrolled": true
   },
   "outputs": [
    {
     "name": "stdout",
     "output_type": "stream",
     "text": [
      "Le coût minimal est pour l'intance 13050 est: 8.10396380565292 \n",
      "Temps de calcul:  2.5355770587921143 \n",
      "\n",
      "Le coût minimal est pour l'intance 18500 est: 2.414674662968298 \n",
      "Temps de calcul:  2.5337724685668945 \n"
     ]
    }
   ],
   "source": [
    "min_cost, temperature_in, temperature_ext, énergie = task_1(13050)\n",
    "print()\n",
    "min_cost2, temperature_in2, temperature_ext2, énergie2 = task_1(18500)"
   ]
  },
  {
   "cell_type": "code",
   "execution_count": 22,
   "id": "23b5963d",
   "metadata": {},
   "outputs": [
    {
     "data": {
      "image/png": "[encoded data removed]",
      "text/plain": [
       "<Figure size 432x288 with 1 Axes>"
      ]
     },
     "metadata": {
      "needs_background": "light"
     },
     "output_type": "display_data"
    },
    {
     "data": {
      "image/png": "[encoded data removed]",
      "text/plain": [
       "<Figure size 432x288 with 1 Axes>"
      ]
     },
     "metadata": {
      "needs_background": "light"
     },
     "output_type": "display_data"
    }
   ],
   "source": [
    "display_temperature(temperature_in, temperature_ext, 13050)\n",
    "display_temperature(temperature_in2, temperature_ext2, 18500)"
   ]
  },
  {
   "cell_type": "code",
   "execution_count": 23,
   "id": "d50f2d0a",
   "metadata": {},
   "outputs": [
    {
     "data": {
      "image/png": "[encoded data removed]",
      "text/plain": [
       "<Figure size 432x288 with 1 Axes>"
      ]
     },
     "metadata": {
      "needs_background": "light"
     },
     "output_type": "display_data"
    },
    {
     "data": {
      "image/png": "[encoded data removed]",
      "text/plain": [
       "<Figure size 432x288 with 1 Axes>"
      ]
     },
     "metadata": {
      "needs_background": "light"
     },
     "output_type": "display_data"
    }
   ],
   "source": [
    "display_energy(énergie)\n",
    "display_energy(énergie2)"
   ]
  },
  {
   "cell_type": "markdown",
   "id": "28d676f9",
   "metadata": {},
   "source": [
    "# Commentaire\n",
    "Les résultats observés sur nos graphes sont satisfaisant, on voit que toutes les contraintes du problème sont satisfaites. (Une energie négative dans le graphe ne représente pas un gain d'énergie mais l'énergie dépensée en mode reverse) \\\n",
    "Nous avons choisi d'observer cette deuxième semaine en particulier car elle est très chaude et permet d'observer que la contrainte x_i >= -1 est respéctée.\n"
   ]
  },
  {
   "cell_type": "markdown",
   "id": "7321165c",
   "metadata": {},
   "source": [
    "# Tâche 2 \n",
    "\n",
    "## Variables de décision\n",
    "Soit $I_i$ l'inconfort à l'intervalle $i$\n",
    "Soit $c_i$ le coût à l'intervalle $i$\n",
    "## Objectif\n",
    "Minimiser l'inconfort total\n",
    "$\\sum_{i = 0}^{n} I_i$ \n",
    "\n",
    "Étant donné que l'inconfort à l'intervalle $i$ peut être définis comme ceci :\n",
    "$\n",
    "\\begin{cases}\n",
    "I_i = I_i + 3 & T_i < T\\_min \\\\\n",
    "I_i = I_i + 1 & T_i > T\\_max \\\\\n",
    "0 & sinon\\\\\n",
    "\\end{cases}\n",
    "$\n",
    "\n",
    "Avec un petit tricks on peut la noter d'une manière moin conditionelle en effet on aimerait que quand $T_i \\ge T\\_max$ ça fait qqch ou sinon rien. Grâce à la fonction max on peut transformer ce système une simple équation du style.\\\n",
    "$\n",
    "I_i = 3* max(T\\_min - T_i, 0) + 1 * max(T_i - T\\_max, 0) \n",
    "$\n",
    "\n",
    "## Contraintes\n",
    "$\\sum_{i = 0}^{n} c_i \\leq$ MAX\\_BUDGET"
   ]
  },
  {
   "cell_type": "code",
   "execution_count": 35,
   "id": "fa5d09cb",
   "metadata": {},
   "outputs": [],
   "source": [
    "def task_2(MAX_BUDGET, start_idx):\n",
    "    MIN_PENALITY = 3\n",
    "    MAX_PENALITY = 1\n",
    "    days_offset = 96\n",
    "    end_idx = start_idx + days_offset*7\n",
    "    \n",
    "    depart = time.time()\n",
    "    \n",
    "    Tin = cp.Variable(end_idx - start_idx) # température\n",
    "    x = cp.Variable(end_idx - start_idx) # énergie\n",
    "    \n",
    "    T0 = 20\n",
    "    \n",
    "    contraintes = [Tin[0] == T0]\n",
    "    cout_elec = [0.18  if is_night(start_idx) else 0.26]\n",
    "    \n",
    "    for i in range(1, end_idx - start_idx):\n",
    "        cout_elec.append(0.18) if is_night(i + start_idx) else cout_elec.append(0.26)\n",
    "        \n",
    "        T1 = -(1 - ETA) * (Tin[i-1] - temperatures_exterieurs[i+ start_idx]) + Tin[i-1]\n",
    "        \n",
    "        degre_a_compenser = degree_to_get(20, temperatures_exterieurs[i+ start_idx], x[i])\n",
    "        \n",
    "        contraintes.append(T1 + degre_a_compenser == Tin[i])\n",
    "        \n",
    "        contraintes.append(x[i] <= 1)\n",
    "        contraintes.append(x[i] >= -1)\n",
    "    \n",
    "    contraintes.append(cp.sum(cp.multiply(cout_elec, cp.abs(x))) <= MAX_BUDGET)\n",
    "    \n",
    "    inconfort_func = lambda T : MIN_PENALITY * cp.maximum(MIN_TEMP - T, 0) + MAX_PENALITY * cp.maximum(T - MAX_TEMP , 0)\n",
    "    \n",
    "    minimise_function = cp.sum(list(map(inconfort_func, Tin)))\n",
    "    \n",
    "    solution = cp.Problem(cp.Minimize(minimise_function), contraintes)\n",
    "    solution.solve()\n",
    "    \n",
    "    fin = time.time() - depart\n",
    "    \n",
    "    print(\"Solution pour avoir un inconfort minimal avec un budget de \", MAX_BUDGET, \"est de :\", solution.value)\n",
    "    print(f\"Temps de calcul:  {fin} \")    \n",
    "    \n",
    "    return (solution.value, Tin, x.value)"
   ]
  },
  {
   "cell_type": "code",
   "execution_count": null,
   "id": "1b7cb1c3",
   "metadata": {},
   "outputs": [
    {
     "name": "stdout",
     "output_type": "stream",
     "text": [
      "Solution pour avoir un inconfort minimal avec un budget de  7.293567425087629 est de : 234.85986220594458\n",
      "Temps de calcul:  3.970179319381714 \n",
      "\n"
     ]
    }
   ],
   "source": [
    "#On prend 90% du min_cost de la tâche 1\n",
    "max_budget = min_cost - 10*min_cost/100\n",
    "max_budget_2 = min_cost2 - 10*min_cost2/100\n",
    "\n",
    "min_inconfort, temperature_in, énergie = task_2(max_budget, 13050)\n",
    "print()\n",
    "min_inconfort2, temperature_in2, énergie2 = task_2(max_budget_2, 18500)"
   ]
  },
  {
   "cell_type": "code",
   "execution_count": null,
   "id": "4d75539d",
   "metadata": {
    "scrolled": false
   },
   "outputs": [],
   "source": [
    "display_temperature(temperature_in, temperature_ext, 13050)\n",
    "display_temperature(temperature_in2, temperature_ext, 18500)"
   ]
  },
  {
   "cell_type": "code",
   "execution_count": null,
   "id": "f9015d3e",
   "metadata": {},
   "outputs": [],
   "source": [
    "display_energy(énergie)\n",
    "display_energy(énergie2)"
   ]
  },
  {
   "cell_type": "markdown",
   "id": "33c80dca",
   "metadata": {},
   "source": [
    "# Commentaire"
   ]
  },
  {
   "cell_type": "markdown",
   "id": "946779fe",
   "metadata": {},
   "source": [
    "# Tâche 3 \n",
    "\n",
    "## Objectif\n",
    "Proposer et générer un graphe représentant la relation entre budget et inconfort"
   ]
  },
  {
   "cell_type": "code",
   "execution_count": null,
   "id": "886ad97b",
   "metadata": {},
   "outputs": [],
   "source": [
    "#Calcul des données nécessaires\n",
    "inconfort_total_sur_8_budgets_ref = []\n",
    "inconfort_total_sur_8_budgets_2 = []\n",
    "\n",
    "budget = [0, 1, 2, 3, 4, 5, 6, 7, 8]\n",
    "print(budget)\n",
    "for i in range(8):\n",
    "    inconfort_total_sur_8_budgets_ref.append(task_2(budget[i], 13050)[0])\n",
    "    inconfort_total_sur_8_budgets_2.append(task_2(budget[i], 18500)[0])"
   ]
  },
  {
   "cell_type": "code",
   "execution_count": null,
   "id": "f3772dad",
   "metadata": {},
   "outputs": [],
   "source": [
    "display_inconfort_budget(inconfort_total_sur_8_budgets_ref, budget)\n",
    "display_inconfort_budget(inconfort_total_sur_8_budgets_2, budget)"
   ]
  },
  {
   "cell_type": "markdown",
   "id": "ab372edd",
   "metadata": {},
   "source": [
    "# Commentaire"
   ]
  }
 ],
 "metadata": {
  "kernelspec": {
   "display_name": "Python 3 (ipykernel)",
   "language": "python",
   "name": "python3"
  },
  "language_info": {
   "codemirror_mode": {
    "name": "ipython",
    "version": 3
   },
   "file_extension": ".py",
   "mimetype": "text/x-python",
   "name": "python",
   "nbconvert_exporter": "python",
   "pygments_lexer": "ipython3",
   "version": "3.10.9"
  }
 },
 "nbformat": 4,
 "nbformat_minor": 5
}
