{
 "cells": [
  {
   "cell_type": "markdown",
   "id": "2c623b73",
   "metadata": {},
   "source": [
    "# Imports"
   ]
  },
  {
   "cell_type": "code",
   "execution_count": 5,
   "id": "2e80591a",
   "metadata": {},
   "outputs": [],
   "source": [
    "import numpy as np # Pour les math\n",
    "import matplotlib.pyplot as plt # Pour les graphiques\n",
    "from scipy.optimize import linprog # Notre solveur"
   ]
  },
  {
   "cell_type": "markdown",
   "id": "dcd93acf",
   "metadata": {},
   "source": [
    "# Données et Utils"
   ]
  },
  {
   "cell_type": "code",
   "execution_count": 7,
   "id": "32f8081c",
   "metadata": {
    "scrolled": true
   },
   "outputs": [
    {
     "name": "stdout",
     "output_type": "stream",
     "text": [
      "-0.8299999999999841\n"
     ]
    }
   ],
   "source": [
    "temperatures_exterieurs = np.load(\"Temperatures-Montreal.npy\")\n",
    "print(temperatures_exterieurs[0])"
   ]
  },
  {
   "cell_type": "code",
   "execution_count": 15,
   "id": "1a1f80cf",
   "metadata": {},
   "outputs": [],
   "source": [
    "def is_night(idx): # run in O(n) instead of O(1) because of flemme normally should be done with mod and divs\n",
    "    # idx is 15\n",
    "    # each day is 96 interval\n",
    "    #each hour is 4 interval\n",
    "    #so from 0 to 24 is night ...\n",
    "    #28 to 84 is day ...\n",
    "    #88 to 96 is night...\n",
    "    real_idx = 0\n",
    "    for i in range(0,len(temperatures_exterieurs)):\n",
    "        if real_idx > 96: #principe du mod 96 mais faut faire le reste des calculs et c'est pas le plus important\n",
    "            real_idx = 0\n",
    "        if(i == idx):\n",
    "            if(real_idx >= 0 and real_idx <= 24):\n",
    "                return True\n",
    "            elif(real_idx >= 28 and real_idx <= 84):\n",
    "                return False\n",
    "            elif(real_idx >= 28 and real_idx <= 96):\n",
    "                return True\n",
    "        real_idx += 1"
   ]
  },
  {
   "cell_type": "markdown",
   "id": "d8da3cde",
   "metadata": {},
   "source": [
    "# Résolution du système\n",
    "## Variables\n",
    "Soit ${e}_i$ la consomation électrique de la pompe à l'intervale $i$. \\\n",
    "Soit $a_i = 1$ si on active la pompe à chaleur à l'intervale $i$ et $a_i = 0$ sinon. \\\n",
    "Soit $r_i = 1$ si la pompe à chaleur est en mode \"reverse\" à l'intervale $i$ et $r_i = 0$ sinon. \\ \n",
    "Soit $c_i = 1$ si la pompe à chaleur est en mode \"normal\" à l'intervale $i$ et $c_i = 0$ sinon. \\ \n",
    "Soit $d_i$ la différence de température à l'intervale $i$. \\\n",
    "Soit $t_{{ex}_i}$ la température exterieure à l'intervale $i$.\n",
    "\n",
    "## Objectif\n",
    "Minimiser le coût total de l'électricité consommée par la pompe à chaleur. \\\n",
    "\n",
    "Maintenant il reste à déterminer la quantité d'énergie utilisée ($e_i$). Pour ce faire, il faut d'abord savoir si la pompe à chaleur vas chauffer ou refroidir. On doit donc implémenter ceci : \n",
    "```\n",
    "si 0 > d_i (exterieur) alors ri = 1 \n",
    "ou sinon ri = 0\n",
    "```\n",
    "Pour résoudre ça on vas utiliser la [Big-M method](https://en.wikipedia.org/wiki/Big_M_method)\n",
    "On obtien donc les inégalitées suivantes.\n",
    "$\n",
    "    d_i \\ge 0 - M(1 - r_i) \\\\\n",
    "    d_i \\le 0 + Mr_i \\\\\n",
    "    r_i \\in \\{0,1\\}\n",
    "$\n",
    "\n",
    "Donc on obitens une fonction pour le COP :\n",
    "$o_i = c_i(3 + 10 * |tanh(t_{{ex}_i}/100)) * tanh(t_{{ex}_i}/100)| + 3.2r_i$ \n",
    "\n",
    "Ainsi pour résoudre notre problème énoncé plus haut:\n",
    "TODO : PAS SUR DE ÇA ?\n",
    "TODO : Le solveur doit trouver 2 trucs, la température et quand activer la pompe à chaleur !!!!!\n",
    "$\n",
    "e_i = o_i * 0.4 * |d_i| \n",
    "$\n",
    "\n",
    "$\\sum a_i( (0.18s_i + 0.26j_i) (| t_{{ex}_i} - t_{{in}_i}| * 0.4 * (c_i(3 + 10 * |tanh(\\frac{t_{{ex}_i}}{100})) * tanh(\\frac{t_{{ex}_i}}{100})| + 3.2r_i))) $\n",
    "\n",
    "## Contraintes\n",
    "Consommation électrique maximale de la pompe à chaleur: $1kW$\\\n",
    "${e}_i \\leq 1$ \\\n",
    "l'intervale ne peut pas être dans la journée et dans le soir. \\\n",
    "$s_i = 1 - j_i$\n",
    "\n",
    "La pompe à chaleur ne peux pas refroidir et chauffer en même temps. \\\n",
    "$r_i = 1 - c_i$\n",
    "\n",
    "Les variables $a_{i}$, r_{i}, c_{i} sont binaires \\\n",
    "$a_i \\in \\{0, 1\\}$ \\\n",
    "$r_i \\in \\{0, 1\\}$ \\\n",
    "$c_i \\in \\{0, 1\\}$ \\\n",
    "\n",
    "La température doit être satisfaite\\\n",
    "$t_{{in}_i} - t_{{in}_{i-1}} = -0.1(t_{{in}_{i-1}} - t_{{ex}_i})$ \\ \n",
    "\n",
    "$t_{{in}_i} \\ge 19$ \\\n",
    "$t_{{in}_i} \\le 21$\n",
    "\n",
    "# Système entier\n",
    "$min$    $\\sum a_i( (0.18s_i + 0.26j_i) (|d_i| * 0.4 * (c_i(3 + 10 * |tanh(\\frac{t_{{ex}_i}}{100})) * tanh(\\frac{t_{{ex}_i}}{100})| + 3.2r_i))) $ \n",
    "\n",
    "$(| t_{{ex}_i} - t_{{in}_i}| * (c_i(3 + 10 * |tanh(\\frac{t_{{ex}_i}}{100})) * tanh(\\frac{t_{{ex}_i}}{100})| + 3.2r_i)) \\le 1$ \\\n",
    "$t_{{in}_i} \\ge 19$ \\\n",
    "$t_{{in}_i} \\le 21$ \\\n",
    "$t_{{ex}_i} \\ge t_{{in}_i} - M(1 - r_i)$ \\\n",
    "$t_{{ex}_i} \\le  t_{{in}_i} + Mr_i$ \\\n",
    "$a_i \\in \\{0, 1\\}$ \\\n",
    "$r_i \\in \\{0, 1\\}$ \\\n",
    "$c_i \\in \\{0, 1\\}$ \\\n",
    "$r_i = 1 - c_i$ \\\n"
   ]
  },
  {
   "cell_type": "code",
   "execution_count": 20,
   "id": "7728575d",
   "metadata": {},
   "outputs": [],
   "source": [
    "def task_1(i_idx):\n",
    "    days_offset = 96\n",
    "    end_idx = i_idx + days_offset*7\n",
    "    central_value = 20\n",
    "    #1h = 4 intervale\n",
    "    #donc \n",
    "    \n",
    "    # On suppose qu'on commence la journée à 0\n",
    "    #On crée la matrice, il y a 2 inconnues a trouver donc 2 collones\n",
    "    # a, d\n",
    "    for i in range(i_idx, end_idx):\n",
    "        s = is_night(i)\n",
    "        elec_cost =  0.18 if s == True else 0.26\n",
    "        cop_tex = 3 + 10 * abs(numpy.tanh(temperatures_exterieurs[i]/100)) * numpy.tanh(temperatures_exterieurs[i]/100)\n",
    "        cop_const = 3.2\n",
    "        elec_required = 0.4 # Electricity required to heat the entire room (+1 deg)\n",
    "        \n",
    "        #Donc on doit bien maximiser \n",
    "        # ai*(elec_cost*( 0.4*|di| * cop)\n",
    "        # avec comme contrainte : \n",
    "        #   0.4*|di| <= 1\n",
    "        #   tex + din >= 19\n",
    "        #   tex + din <= 21\n",
    "        #   ai € [0,1]\n",
    "        #   (et le reste voir au-dessus)\n",
    "        #"
   ]
  },
  {
   "cell_type": "code",
   "execution_count": 14,
   "id": "7468712e",
   "metadata": {},
   "outputs": [
    {
     "name": "stdout",
     "output_type": "stream",
     "text": [
      "20\n"
     ]
    }
   ],
   "source": [
    "task_1(0)"
   ]
  },
  {
   "cell_type": "code",
   "execution_count": null,
   "id": "1fb6ffcf",
   "metadata": {},
   "outputs": [],
   "source": []
  }
 ],
 "metadata": {
  "kernelspec": {
   "display_name": "Python 3 (ipykernel)",
   "language": "python",
   "name": "python3"
  },
  "language_info": {
   "codemirror_mode": {
    "name": "ipython",
    "version": 3
   },
   "file_extension": ".py",
   "mimetype": "text/x-python",
   "name": "python",
   "nbconvert_exporter": "python",
   "pygments_lexer": "ipython3",
   "version": "3.10.9"
  }
 },
 "nbformat": 4,
 "nbformat_minor": 5
}
