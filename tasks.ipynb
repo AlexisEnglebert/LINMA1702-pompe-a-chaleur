{
 "cells": [
  {
   "attachments": {},
   "cell_type": "markdown",
   "id": "tight-speech",
   "metadata": {},
   "source": [
    "## LINMA1702 - Projet\n",
    "# Utilisation optimale d'une pompe à chaleur domestique\n",
    "\n",
    "###  Notebook pour le rapport final - version 2.1\n",
    "### <font color=\"red\">Numéro du groupe : 7</font>\n",
    "### <font color=\"red\">Membres du groupe :\n",
    "\n",
    "Englebert Alexis (37862100)\n",
    "\n",
    "Sanglier Kevin (23832000)\n",
    "\n",
    "Lamby Thomas (27312000)\n",
    "\n",
    "Rota-Benadid Lucas (79162100)</font>\n",
    "\n",
    "## Description générale\n",
    "\n",
    "Une pompe à chaleur permet de chauffer un bâtiment en consommant moins d'énergie qu'au chauffage électrique classique, grâce à un coefficient de performance (COP) supérieur à un. Elle peut également fonctionner de façon réversible, c'est-à-dire qu'elle permet de refroidir en été.\n",
    "\n",
    "Dans ce projet, on va utiliser une pompe à chaleur pour maintenir le température intérieur d'un bâtiment dans une plage confortable, tout en minimisant le coût de l'électricité consommée.\n",
    "\n",
    "### Hypothèses et données\n",
    "- On considère une année entière, qu'on discrétise par intervalles de temps d'une durée de 15 minutes\n",
    "- Le bâtiment est situé à Montréal, et on dispose de la température extérieure durant chaque intervalle de temps \n",
    "- On suppose que la température du bâtiment est homogène, et on s'intéressera uniquement à la valeur qu'elle prend toutes les 15 minutes (on ne s'intéresse donc pas à la dynamique de la température au cours d'un intervalle de temps)\n",
    "- Durant chaque intervalle de temps la température intérieure évolue en fonction la température externe : la différence de température entre le début et la fin d'un intervalle de temps est proportionnel à la différence entre la température externe et la température interne (le coefficient de proportionnalité dépendant de l'isolation du bâtiment)\n",
    "- Pendant chaque intervalle de temps on peut choisir d'activer la pompe à chaleur. Plus précisément, on peut décider de la puissance qu'on va utiliser pour la pompe à chaleur, jusqu'à une certaine puissance maximale. Celle-ci va alors prélever de la chaleur extérieure et la transférer à l'intérieur du bâtiment (ou l'inverse si on décide de fonctionne en mode refroidissement, nommé \"reverse\"). La quantité de chaleur transférée est proportionnelle à la puissance électrique consommée, mais aussi au coefficient de performance (COP).\n",
    "- La variation de la température du bâtiment causée par l'activation de la pompe à chaleur est proportionnelle à la chaleur/énergie transférée\n",
    "- Le coefficient de performance de la pompe à chaleur est supposé dépendre uniquement de la température extérieure et du mode de fonctionnement, normal ou reverse.\n",
    "- Le coût unitaire de l'électricité consommée dépend de l'heure où elle est prélevée (tarif bi-horaire)\n",
    "   \n",
    "### Remarque à propos de la modélisation\n",
    "En général, quand on modélise un problème, on décide d'effectuer certaines hypothèses et/ou approximations. Il y a certainement plusieurs façons tout à fait valides de modéliser le problème, donc pas pas forcément une unique bonne réponse. Vous pouvez interpréter l'énoncé de la façon qui vous convient le mieux du moment qu'elle reste raisonnable. \n",
    "(par exemple : l'énoncé suggère de ne pas analyser/de prendre en compte ce qui se passe à l'intérieur d'un intervalle de temps, ce qui est un choix ; aussi : le fonctionnement simultané en mode chauffage et reverse pourrait être a priori permis ou interdit, mais cela change-t-il vraiment les choses ?)"
   ]
  },
  {
   "attachments": {},
   "cell_type": "markdown",
   "id": "b3589204",
   "metadata": {},
   "source": [
    "## Imports"
   ]
  },
  {
   "cell_type": "code",
   "execution_count": null,
   "id": "56bc4eb4",
   "metadata": {},
   "outputs": [],
   "source": [
    "import numpy as np # Pour les math\n",
    "import matplotlib.pyplot as plt # Pour les graphiques\n",
    "import cvxpy as cp\n",
    "import time"
   ]
  },
  {
   "attachments": {},
   "cell_type": "markdown",
   "id": "b3c1d811",
   "metadata": {},
   "source": [
    "## Données et Utils"
   ]
  },
  {
   "cell_type": "code",
   "execution_count": null,
   "id": "f9daae78",
   "metadata": {},
   "outputs": [],
   "source": [
    "# CONSTANTES\n",
    "COP_CONST = 3.2\n",
    "CAPACITE_CALORIFIQUE = 0.4\n",
    "MIN_TEMP = 19\n",
    "MAX_TEMP = 21\n",
    "ETA  = 0.99\n",
    "NIGHT_COST = 0.18\n",
    "DAY_COST = 0.26\n",
    "MAX_ENERGY = 1\n",
    "temperatures_exterieurs = np.load(\"Temperatures-Montreal.npy\")\n",
    "\n",
    "# FONCTIONS UTILS\n",
    "def is_night(idx):\n",
    "    days_offset = 96\n",
    "    day = (idx % days_offset)\n",
    "    return True if day > 88 or day < 28 else False\n",
    "\n",
    "def degree_to_get(reference, outside_temperature , x_i):    \n",
    "    if (reference < outside_temperature):\n",
    "        return (COP_CONST * CAPACITE_CALORIFIQUE * x_i) \n",
    "    else:\n",
    "        COP_TEX = 3 + 10 * abs(np.tanh(outside_temperature/100)) * np.tanh(outside_temperature/100)\n",
    "        return (COP_TEX * CAPACITE_CALORIFIQUE * x_i)\n",
    "\n",
    "# FONCTIONS D'AFFICHAGE\n",
    "def display_temperature(Tin, temperatures_exterieurs, start_idx):\n",
    "    axe_x = range(672)\n",
    "    fig, ax = plt.subplots()\n",
    "    ax.add_patch(plt.Rectangle((0, MIN_TEMP), 672, (MAX_TEMP - MIN_TEMP), alpha=.2))\n",
    "    ax.plot(axe_x, Tin.value, label=\"Température intérieure\", color=\"red\")\n",
    "    ax.plot(axe_x, temperatures_exterieurs[start_idx:start_idx+672], label=\"Température extérieure\", color=\"black\")\n",
    "    plt.legend()\n",
    "    plt.title(\"Comparaison entre la température extérieure et intérieure\")\n",
    "    plt.xlabel(\"Intervalles de 15 minutes\")\n",
    "    plt.ylabel(\"Température (en °C)\")\n",
    "    plt.show()\n",
    "\n",
    "def display_energy(valeur_energie):\n",
    "    axe_x = range(672)\n",
    "    refroidissement = []\n",
    "    rechauffement = []\n",
    "    for i in valeur_energie:\n",
    "        if i < 0:\n",
    "            refroidissement.append(i)\n",
    "            rechauffement.append(0)\n",
    "        else:\n",
    "            rechauffement.append(i)\n",
    "            refroidissement.append(0)\n",
    "    fig, ax = plt.subplots()\n",
    "    ax.bar(axe_x, rechauffement, label=\"Pour réchauffer\", color=\"red\")\n",
    "    ax.bar(axe_x, refroidissement, label=\"Pour refroidir\", color=\"black\")\n",
    "    plt.legend()\n",
    "    plt.title(\"Énergie utilisée par la pompe à chaleur\")\n",
    "    plt.xlabel(\"Intervalles de 15 minutes\")\n",
    "    plt.ylabel(\"Énergie consommée (en watts)\")\n",
    "    plt.show()\n",
    "\n",
    "def display_energy_separated(chaud, froid, BOUNDARY=None):\n",
    "    axe_x = range(672)\n",
    "    #froid = list(map(lambda x : -1*x, froid))\n",
    "    fig, ax = plt.subplots()\n",
    "    ax.bar(axe_x, chaud, label=\"Pour réchauffer\", color=\"red\")\n",
    "    ax.bar(axe_x, froid, label=\"Pour refroidir\", color=\"black\")\n",
    "    if BOUNDARY is not None:\n",
    "        ax.plot(axe_x, [BOUNDARY]*len(axe_x))\n",
    "    plt.legend()\n",
    "    plt.title(\"Énergie utilisée par la pompe à chaleur\")\n",
    "    plt.xlabel(\"Intervalles de 15 minutes\")\n",
    "    plt.ylabel(\"Énergie consommée (en watts)\")\n",
    "    plt.show()\n",
    "\n",
    "#Création du graphe\n",
    "def display_inconfort_budget(list_inconfort, list_budget):\n",
    "    axe_x = range(9)\n",
    "    fig, ax = plt.subplots()\n",
    "    ax.bar(axe_x, list_inconfort, label=\"Inconfort total\", color=\"red\")\n",
    "    plt.legend()\n",
    "    plt.title(\"Inconfort total en fonction du budget alloué\")\n",
    "    plt.xlabel(\"Budget\")\n",
    "    plt.show()"
   ]
  },
  {
   "attachments": {},
   "cell_type": "markdown",
   "id": "loved-savings",
   "metadata": {},
   "source": [
    "## Tâches\n",
    "\n",
    "**Tâche 1** : on souhaite dans un premier temps que la température du bâtiment reste comprise dans une certaine plage admissible de températures, et on cherche à **minimiser le coût total de l'électricité consommée par la pompe à chaleur**. Formulez ce problème comme un problème d'optimisation linéaire, puis résolvez le.\n",
    "\n",
    "Pour des raisons de temps de calcul, votre modèle considérera uniquement une période de 7 jours consécutifs. Il fera l'hypothèse que la température initiale au début de la période est égale à la valeur centrale de la plage admissible, et fera en sorte que la température finale à la fin de la période revienne à la même valeur. Votre code prendra donc en entrée un paramètre indiquant le numéro de l'intervalle de temps qui début la période, qui s'étendra sur $7 \\times 24 \\times 4 = 672$ intervalles de temps.\n",
    "\n",
    "<div class=\"alert alert-block alert-warning\"><b>A mentionner</b> :<br> \n",
    "- coût minimal + graphique de l'évolution des températures + graphique représentant l'utilisation de la pompe à chaleur (en distinguant le fonctionnement normal du fonctionnement _reverse_) + temps de calcul + bref commentaire (maximum 4 lignes)<br>\n",
    "- pour deux périodes distinctes (placer les résultats côté à côté) : à gauche une période pré-déterminée (cf. fichier de données), et à droite une seconde période que vous choisirez en fonction de son intérêt\n",
    "</div>\n",
    "\n",
    "---"
   ]
  },
  {
   "attachments": {},
   "cell_type": "markdown",
   "id": "59d693bb",
   "metadata": {},
   "source": [
    "<div class=\"alert alert-block alert-info\"><b>Question 1.1</b> :<br> \n",
    "    Donnez votre formulation linéaire, en commentant brièvement (en particulier si vous utilisez une technique de modélisation/reformulation).\n",
    "</div>"
   ]
  },
  {
   "attachments": {},
   "cell_type": "markdown",
   "id": "24d61423",
   "metadata": {},
   "source": [
    "---Variables de décison---\\\n",
    "Soit $x_i$ l'énergie utilisée en mode normal par la pompe à chaleur à l'intervalle de temps $i$.\n",
    "\n",
    "---Objectif---\\\n",
    "Minimiser le coût total de l'électricité consommée par la pompe à chaleur.\n",
    "\n",
    "Fonction objective : min $c^T * abs(x_i)$\n",
    "\n",
    "où $c_i$ est le coût de l'électricité à l'intervalle de temps $i$.\\\n",
    "$c_i = 0.18$ si c'est la nuit\\\n",
    "ou\\\n",
    "$c_i = 0.26$ si c'est le jour\\\n",
    "et où $abs(x_i)$ est l'énergie utilisée.\n",
    "\n",
    "---Contraintes---\\\n",
    "$x_i \\le (1)$\\\n",
    "$x_i \\ge (-1)$\\\n",
    "$x_i \\ge (19-t_i)*(1/0.4)*(1/COP_{xi})$\\\n",
    "$x_i \\le (21-t_i)*(1/0.4)*(1/COP_{xi})$\\\n",
    "$x_i \\ge -(21-t_i)*(1/0.4)*(1/3.2)$\\\n",
    "$x_i \\le -(19-t_i)*(1/0.4)*(1/3.2)$\\\n",
    "$t_{{in}_{i+1}} - t_{{in}_i} = -0.01 * (t_{{in}_i} - t_{{ex}_i})$\\\n",
    "$COP_{xi} = 3 + 10 * abs(tanh(t_{{ex}_i}/100)) * tanh(t_{{ex}_i}/100)$\\\n",
    "où $t_{{in}_i}$ est la température intérieure initiale à l'intervalle de temps $i$, $COP_{xi}$ le coefficent de performance de la pompe à chaleur en mode normal à l'intervalle de temps $i$, $t_{{in}_{i+1}}$ la température à l'intérieure après avoir utilisé (ou non) la pompe à chaleur à l'intervalle de temps $i$ et $t_{{ex}_i}$ est la température extérieure de Montréal à l'intervalle de temps $i$."
   ]
  },
  {
   "attachments": {},
   "cell_type": "markdown",
   "id": "6e4c0afb",
   "metadata": {},
   "source": [
    "<div class=\"alert alert-block alert-info\"><b>Question 1.2</b> :<br> \n",
    "    Résolvez votre modèle sur les deux intervalles de temps, affichez vos résultats sous forme graphique et commentez.\n",
    "</div>"
   ]
  },
  {
   "cell_type": "code",
   "execution_count": null,
   "id": "36503fa2",
   "metadata": {},
   "outputs": [],
   "source": [
    "def task_1(i_idx):\n",
    "    depart = time.time()\n",
    "    end_idx = i_idx + 96*7\n",
    "    cout_intervalle = [NIGHT_COST if is_night(i_idx) else DAY_COST]\n",
    "    T0 = 20 # Température de départ\n",
    "    x = cp.Variable(end_idx-i_idx)\n",
    "    Tin = cp.Variable(end_idx-i_idx)\n",
    "    contraintes = [\n",
    "        Tin[0] == T0, \n",
    "        Tin[end_idx-i_idx-1] == T0\n",
    "    ]\n",
    "    \n",
    "    for i in range(1, end_idx-i_idx):\n",
    "        cout_intervalle.append(NIGHT_COST) if is_night(i + i_idx) else cout_intervalle.append(DAY_COST)\n",
    "        T1 = -(1 - ETA) * (Tin[i-1] - temperatures_exterieurs[i+ i_idx]) + Tin[i-1] # Température initiale suivante\n",
    "        degre_a_compenser = degree_to_get(20, temperatures_exterieurs[i+ i_idx], x[i])\n",
    "        \n",
    "        # Contrainte de degrée\n",
    "        contraintes.append((T1 + degre_a_compenser == Tin[i]))\n",
    "        contraintes.append(-Tin[i] <= -MIN_TEMP)\n",
    "        contraintes.append(Tin[i] <= MAX_TEMP)\n",
    "        \n",
    "        # Contrainte d'énergie\n",
    "        contraintes.append(x[i] <= MAX_ENERGY)\n",
    "        contraintes.append(x[i] >= -MAX_ENERGY)\n",
    "\n",
    "    fonction_cout = cp.sum(cp.multiply(cout_intervalle, cp.abs(x)))\n",
    "    solution = cp.Problem(cp.Minimize(fonction_cout), contraintes)\n",
    "    solution.solve()\n",
    "\n",
    "    fin = time.time() - depart\n",
    "    #cout_intervalle = x.value * cout_intervalle    \n",
    "    print(f\"Le coût minimal pour l'instance {i_idx} est de {solution.value} $\")\n",
    "    print(f\"Temps de calcul : {fin} s\")\n",
    "    return (solution.value, Tin, temperatures_exterieurs, x.value, fin)"
   ]
  },
  {
   "cell_type": "code",
   "execution_count": null,
   "id": "1268ea3c",
   "metadata": {},
   "outputs": [],
   "source": [
    "min_cost, temperature_in, temperature_ext, énergie, _ = task_1(13050)\n",
    "print()\n",
    "min_cost2, temperature_in2, temperature_ext2, énergie2, _ = task_1(18500)"
   ]
  },
  {
   "cell_type": "code",
   "execution_count": null,
   "id": "1e1dd704",
   "metadata": {},
   "outputs": [],
   "source": [
    "display_temperature(temperature_in, temperature_ext, 13050)\n",
    "display_temperature(temperature_in2, temperature_ext2, 18500)"
   ]
  },
  {
   "cell_type": "code",
   "execution_count": null,
   "id": "eea47bc5",
   "metadata": {},
   "outputs": [],
   "source": [
    "display_energy(énergie)\n",
    "display_energy(énergie2)"
   ]
  },
  {
   "attachments": {},
   "cell_type": "markdown",
   "id": "e4277e78",
   "metadata": {},
   "source": [
    "---Commentaire---\\\n",
    "Les résultats observés sur nos graphes sont satisfaisants, on voit que toutes les contraintes du problème sont respectées. (Précision: Une énergie négative dans le graphe ne représente pas un gain d’énergie mais bien l’énergie dépensée en mode reverse). Nous avons choisi d’observer cette deuxième semaine car elle est très chaude et permet alors d’observer que la contrainte $x_i \\ge -1$ est respectée."
   ]
  },
  {
   "attachments": {},
   "cell_type": "markdown",
   "id": "dcd4fd17",
   "metadata": {},
   "source": [
    "<div class=\"alert alert-block alert-info\"><b>Question 1.3</b> :<br> \n",
    "    A partir de certaines informations fournies par le solver (et donc sans effectuer de nouveau calcul) et de la théorie vue au cours, prédisez l'effet sur le coût optimal d'une diminution de la tempéature minimale admissible Tmin. Faites de même pour une augmentation de la température maximale admissible Tmax. \n",
    "    Votre prédiction consiste en un formule pour le coût optimal en fonction des deux variations de température Tmin et Tmax. Commentez cette prédiction (en particulier : est-elle valide pour n'importe quelle variation des températures ?).\n",
    "</div>"
   ]
  },
  {
   "attachments": {},
   "cell_type": "markdown",
   "id": "fafba8c3",
   "metadata": {},
   "source": [
    "Une diminution de $T_{min}$ et un augmentation de $T_{max}$ affecteraient notre résultat. En effet il faudrait activer moins de fois la pompe à chaleure dans le cas général. \n",
    "\n",
    "On peut donc affirmer qu'une diminution de $T_{min}$ et une augmentation de $T_{max}$ diminue/n'augmente pas le coût minimal.\n",
    "\n",
    "$c^{*} \\leq c$ \\\n",
    "\\\n",
    "où $c^{*}$ est le coût après diminution de $T_{min}$ et augmentation de $T_{max}$ \\\n",
    "et $c$ est le coût sans changement de borne."
   ]
  },
  {
   "attachments": {},
   "cell_type": "markdown",
   "id": "dd5e6cd6",
   "metadata": {},
   "source": [
    "<div class=\"alert alert-block alert-info\"><b>Question 1.4</b> :<br> \n",
    "   Démontrez que, dans toute solution optimale de ce modèle, l'activation simultanée du chauffage et du mode reverse durant la même période de temps est impossible.\n",
    "</div>"
   ]
  },
  {
   "attachments": {},
   "cell_type": "markdown",
   "id": "af08cae2",
   "metadata": {},
   "source": [
    "<div class=\"alert alert-block alert-info\"><b>Question 1.5</b> :<br> \n",
    "    Modifiez votre modèle de façon à tenir compte des deux nouvelles contraintes suivantes :<br>\n",
    "    - si la pompe à chaleur est utilisée (dans un mode ou dans l'autre), elle l'est au moins à 25% de sa puissance maximale. Il n'est donc plus possible d'utiliser la pompe à chaleur à très faible puissance.\n",
    "<br>\n",
    "    - si on décide d'allumer (ou d'éteindre) la pompe à chaleur, elle reste allumée (ou éteinte) sur une période de x heures consécutives. Ces périodes sont fixes : par exemple, si x=4h, il s'agit de [0h-4h], [4h-8h], [8h-12h], [12h-16h], etc. pour chaque journée.<br>\n",
    "    Le nouveau modèle sera toujours obligatoirement linéaire, mais pourra faire appel à des variables discrètes. \n",
    "    Donnez votre formulation, et commentez brièvement.\n",
    "</div>"
   ]
  },
  {
   "attachments": {},
   "cell_type": "markdown",
   "id": "7aa5fe9a",
   "metadata": {},
   "source": [
    "<div class=\"alert alert-block alert-info\"><b>Question 1.6</b> :<br> \n",
    "    Résolvez ce nouveau modèle, affichez les résultats et commentez (en particulier le temps de calcul). Choissisez d'abord une valeur x=4h, puis x=2h.\n",
    "</div>"
   ]
  },
  {
   "cell_type": "code",
   "execution_count": null,
   "id": "3e62aa16",
   "metadata": {},
   "outputs": [],
   "source": [
    "MIN_POWER = 0.25\n",
    "\n",
    "def task_1_p2(i_idx, CONTINIOUS_HOUR=0):\n",
    "    depart = time.time()\n",
    "    end_idx = i_idx + 96*7\n",
    "    cout_intervalle = [NIGHT_COST if is_night(i_idx) else DAY_COST]\n",
    "    T0 = 20 # Température de départ\n",
    "    \n",
    "    # Par simplicité on divise les deux énergies en deux variables différentes\n",
    "    x = cp.Variable(end_idx-i_idx)\n",
    "    y = cp.Variable(end_idx-i_idx)\n",
    "    a = cp.Variable(end_idx-i_idx, boolean=True)\n",
    "    b = cp.Variable(end_idx-i_idx, boolean=True)\n",
    "    Tin = cp.Variable(end_idx-i_idx)\n",
    "    contraintes = [\n",
    "        Tin[0] == T0, \n",
    "        Tin[end_idx-i_idx-1] == T0\n",
    "    ]\n",
    "\n",
    "    for i in range(1, end_idx-i_idx):\n",
    "        cout_intervalle.append(NIGHT_COST) if is_night(i + i_idx) else cout_intervalle.append(DAY_COST)\n",
    "        T1 = -(1 - ETA) * (Tin[i-1] - temperatures_exterieurs[i+ i_idx]) + Tin[i-1] # Température initiale suivante\n",
    "        COP_TEX = 3 + 10 * abs(np.tanh(temperatures_exterieurs[i+ i_idx]/100)) * np.tanh(temperatures_exterieurs[i+ i_idx]/100)\n",
    "        degre_a_compenser_chauffage = COP_TEX * CAPACITE_CALORIFIQUE * x[i]\n",
    "        degre_a_compenser_refroidissement = (COP_CONST * CAPACITE_CALORIFIQUE * y[i])\n",
    "        \n",
    "        # Contrainte de degrée\n",
    "        contraintes.append((T1 + degre_a_compenser_chauffage - degre_a_compenser_refroidissement == Tin[i]))\n",
    "        contraintes.append(-Tin[i] <= -MIN_TEMP)\n",
    "        contraintes.append(Tin[i] <= MAX_TEMP)\n",
    "        contraintes.append(x[i] <= MAX_ENERGY * a[i])\n",
    "        contraintes.append(x[i] >= MIN_POWER * MAX_ENERGY * a[i])\n",
    "        contraintes.append(y[i] <= MAX_ENERGY * b[i])\n",
    "        contraintes.append(y[i] >=  MIN_POWER * MAX_ENERGY * b[i])\n",
    "\n",
    "    if CONTINIOUS_HOUR != 0:\n",
    "        indx = 0\n",
    "        while indx < 96*7:\n",
    "            for i in range(CONTINIOUS_HOUR-1):\n",
    "                contraintes.append(a[indx] == a[indx+1])\n",
    "                contraintes.append(b[indx] == b[indx+1])\n",
    "                indx += 1\n",
    "            indx+=1\n",
    "\n",
    "    fonction_cout = cp.sum(cp.multiply(cout_intervalle, cp.abs(x))) + cp.sum(cp.multiply(cout_intervalle, cp.abs(y)))\n",
    "    solution = cp.Problem(cp.Minimize(fonction_cout), contraintes)\n",
    "    solution.solve(solver=cp.SCIPY, scipy_options={\"method\": \"highs\"})\n",
    "\n",
    "    fin = time.time() - depart\n",
    "    #cout_intervalle = x.value * cout_intervalle\n",
    "    print(f\"Le coût minimal pour l'instance {i_idx} est de {solution.value} $\")\n",
    "    print(f\"Temps de calcul : {fin} s\")\n",
    "    \n",
    "    return (solution.value, Tin, temperatures_exterieurs, x.value, y.value, fin)"
   ]
  },
  {
   "cell_type": "code",
   "execution_count": null,
   "id": "feda60ac",
   "metadata": {},
   "outputs": [],
   "source": [
    "min_cost, temperature_in, temperature_ext, énergie_chaud, énergie_froid, _ = task_1_p2(13050, CONTINIOUS_HOUR=2)"
   ]
  },
  {
   "cell_type": "code",
   "execution_count": null,
   "id": "47985208",
   "metadata": {},
   "outputs": [],
   "source": [
    "display_energy_separated(énergie_chaud, énergie_froid, BOUNDARY=MIN_POWER * MAX_ENERGY)"
   ]
  },
  {
   "attachments": {},
   "cell_type": "markdown",
   "id": "8fcc662f",
   "metadata": {},
   "source": [
    "<div class=\"alert alert-block alert-info\"><b>Question 1.7</b> :<br> \n",
    "    Décrivez comment on pourrait apporter les modifications suivantes au nouveau modèle de la Question 1.5, sans les implémenter : <br>\n",
    "    (a) tenir compte d'un coût fixe supplémentaire à payer pour chaque intervalle de temps où la pompe à chaleur est utilisée<br>\n",
    "    (b) empêcher le nombre total d'allumages de la pompe à chaleur à ne pas dépasser une certaine valeur maximale (un allumage = passage de l'état 'éteint' lors d'un invervalle de temps à l'état 'allumé' lors de l'intervalle de temps suivant)<br>\n",
    "    (c) dans ce nouveau modèle il n'est plus nécessairement impossible d'observer dans une solution optimale l'activation simultanée du chauffage et du mode reverse au cours du même intervalle de temps : expliquez pourquoi, et proposez une contrainte permettant d'éliminer cette possibilité d'activation simultanée.\n",
    "</div>"
   ]
  },
  {
   "attachments": {},
   "cell_type": "markdown",
   "id": "7a3e7b09",
   "metadata": {},
   "source": [
    "**Tâche 2** : on souhaite réduire le coût d'utilisation de la pompe à chaleur, et on va fixer le budget maximal à une certaine proportion du coût minimal identifié lors de la première tâche. Pour diminuer les coût, on va permettre aux températures de sortir de la plage admissible définie plus haut (on abandonne aussi la contrainte sur la température finale, qui devient libre). On va cependant alors comptabiliser la quantité d'_inconfort_ éventuellement subi durant chaque intervalle de temps, qui sera proportionnel au dépassement de la température maximale admissible, ou au dépassement par le bas de la température minimale admissible. On cherche alors à **minimiser l'inconfort total** (somme des inconforts sur toute la période considérée) **tout en respectant la contrainte de budget**. Formulez ce problème comme un problème d'optimisation linéaire, puis résolvez le.\n",
    "\n",
    "\n",
    "<div class=\"alert alert-block alert-warning\"><b>A mentionner</b> :<br> \n",
    "- inconfort minimal + même graphiques que pour tâche 1 + temps de calcul + bref commentaire (maximum 4 lignes)<br>\n",
    "- à nouveau pour les deux périodes mentionnées lors de la tâche 1\n",
    "</div>\n",
    "\n",
    "---"
   ]
  },
  {
   "attachments": {},
   "cell_type": "markdown",
   "id": "ad42aa0d",
   "metadata": {},
   "source": [
    "<div class=\"alert alert-block alert-info\"><b>Question 2.1</b> :<br> \n",
    "    Donnez votre formulation linéaire, en commentant brièvement (en particulier si vous utilisez une technique de modélisation/reformulation).\n",
    "</div>"
   ]
  },
  {
   "attachments": {},
   "cell_type": "markdown",
   "id": "84804c50",
   "metadata": {},
   "source": [
    "---Variables de décison---\\\n",
    "Soit $I_i$ l'inconfort à l'intervalle $i$. \\\n",
    "Soit $c_i$ le coût à l'intervalle $i$.\n",
    "\n",
    "---Objectif---\\\n",
    "Minimiser l'inconfort total\n",
    "$\\sum_{i = 0}^{n} I_i$  sachant que l'inconfort à l'intervalle $i$ peut être défini comme ceci :\n",
    "$\n",
    "\\begin{cases}\n",
    "I_i = I_i + 3 & T_i < T\\_min \\\\\n",
    "I_i = I_i + 1 & T_i > T\\_max \\\\\n",
    "0 & sinon\\\\\n",
    "\\end{cases}\n",
    "$\n",
    "\\\n",
    "\\\n",
    "\\\n",
    "On peut également la noter d'une manière moin conditionelle. En effet, on aimerait considérer uniquement $T_i \\ge T\\_max$, et rien dans le cas contraire. Grâce à la fonction max on peut transformer ce système en simple équation du style.\\\n",
    "$\n",
    "I_i = 3* max(T\\_min - T_i, 0) + 1 * max(T_i - T\\_max, 0) \n",
    "$\n",
    "\n",
    "---Contraintes---\\\n",
    "$\\sum_{i = 0}^{n} c_i \\leq$ MAX\\_BUDGET"
   ]
  },
  {
   "attachments": {},
   "cell_type": "markdown",
   "id": "185b221d",
   "metadata": {},
   "source": [
    "<div class=\"alert alert-block alert-info\"><b>Question 2.2</b> :<br> \n",
    "    Résolvez votre modèle sur les deux intervalles de temps, affichez vos résultats sous forme graphique et commentez.\n",
    "</div>"
   ]
  },
  {
   "cell_type": "code",
   "execution_count": null,
   "id": "75864ee0",
   "metadata": {},
   "outputs": [],
   "source": [
    "def task_2(MAX_BUDGET, start_idx, NO_TIME=False):\n",
    "    MIN_PENALITY = 3\n",
    "    MAX_PENALITY = 1\n",
    "    days_offset = 96\n",
    "    end_idx = start_idx + days_offset*7\n",
    "    depart = time.time()\n",
    "    Tin = cp.Variable(end_idx - start_idx) # Température\n",
    "    x = cp.Variable(end_idx - start_idx) # Energie\n",
    "    T0 = 20\n",
    "    contraintes = [Tin[0] == T0]\n",
    "    cout_elec = [NIGHT_COST  if is_night(start_idx) else DAY_COST]\n",
    "    \n",
    "    for i in range(1, end_idx - start_idx):\n",
    "        cout_elec.append(NIGHT_COST) if is_night(i + start_idx) else cout_elec.append(DAY_COST)\n",
    "        T1 = -(1 - ETA) * (Tin[i-1] - temperatures_exterieurs[i+ start_idx]) + Tin[i-1]\n",
    "        degre_a_compenser = degree_to_get(20, temperatures_exterieurs[i+ start_idx], x[i])\n",
    "        contraintes.append(T1 + degre_a_compenser == Tin[i])\n",
    "        contraintes.append(x[i] <= MAX_ENERGY)\n",
    "        contraintes.append(x[i] >= -MAX_ENERGY)\n",
    "    \n",
    "    contraintes.append(cp.sum(cp.multiply(cout_elec, cp.abs(x))) <= MAX_BUDGET)\n",
    "    inconfort_func = lambda T : MIN_PENALITY * cp.maximum(MIN_TEMP - T, 0) + MAX_PENALITY * cp.maximum(T - MAX_TEMP , 0)\n",
    "    minimise_function = cp.sum(list(map(inconfort_func, Tin)))\n",
    "    solution = cp.Problem(cp.Minimize(minimise_function), contraintes)\n",
    "    solution.solve()\n",
    "    \n",
    "    fin = time.time() - depart\n",
    "    print(f\"L'inconfort minimal avec un budget de {MAX_BUDGET} $ est de {solution.value}\")\n",
    "    if (not NO_TIME):\n",
    "        print(f\"Temps de calcul : {fin} s\")    \n",
    "    \n",
    "    return (solution.value, Tin, x.value, fin)"
   ]
  },
  {
   "cell_type": "code",
   "execution_count": null,
   "id": "6cfcba0b",
   "metadata": {},
   "outputs": [],
   "source": [
    "# On prend 90% du min_cost de la tâche 1\n",
    "max_budget = min_cost - 10*min_cost/100\n",
    "max_budget_2 = min_cost2 - 10*min_cost2/100\n",
    "\n",
    "min_inconfort, temperature_in, énergie, _ = task_2(max_budget, 13050)\n",
    "print()\n",
    "min_inconfort2, temperature_in2, énergie2, _ = task_2(max_budget_2, 18500)"
   ]
  },
  {
   "cell_type": "code",
   "execution_count": null,
   "id": "cce806f3",
   "metadata": {},
   "outputs": [],
   "source": [
    "display_temperature(temperature_in, temperature_ext, 13050)\n",
    "display_temperature(temperature_in2, temperature_ext, 18500)"
   ]
  },
  {
   "cell_type": "code",
   "execution_count": null,
   "id": "7105adfb",
   "metadata": {},
   "outputs": [],
   "source": [
    "display_energy(énergie)\n",
    "display_energy(énergie2)"
   ]
  },
  {
   "attachments": {},
   "cell_type": "markdown",
   "id": "7977a5c6",
   "metadata": {},
   "source": [
    "---Commentaire---\\\n",
    "Nous avons fixé le budget à 90% du coût minimal trouvé à la tâche 1. On remarque sur le graphe que la température intérieure garde la même “forme générale” en prenant parfois des valeurs plus extrêmes vu qu’on ne doit pas strictement respecter l'intervalle [19; 21]. On remarque aussi que la pompe est moins souvent utilisée à cause de la limite de budget."
   ]
  },
  {
   "attachments": {},
   "cell_type": "markdown",
   "id": "db6baecb",
   "metadata": {},
   "source": [
    "On remplace à présent la notion d'inconfort décrite ci-dessus par une pénalisation quadratique : à présent l'inconfort  est proportionnel au *carré* du dépassement de la température maximale admissible, ou au *carré* du dépassement par le bas de la température minimale admissible (les coefficients de proportionnalité restent identiques)."
   ]
  },
  {
   "attachments": {},
   "cell_type": "markdown",
   "id": "cf7d1ad5",
   "metadata": {},
   "source": [
    "<div class=\"alert alert-block alert-info\"><b>Question 2.3</b> :<br> \n",
    "    Modélisez ce nouveau problème de façon linéaire, en utilisant une approximation. Cette approximation pourra par exemple être basée sur des tangentes  (choisissez un nombre pas trop élevé, par exemple 5). Expliquez votre technique de modélisation. Résolvez ce modèle approché, affichez les solutions et commentez (en particulier l'effet sur la solution par rapport au modèle d'inconfort initial).\n",
    "</div>"
   ]
  },
  {
   "attachments": {},
   "cell_type": "markdown",
   "id": "42159bcd",
   "metadata": {},
   "source": [
    "---Variables de décision---\\\n",
    "Soit $I_i$ l'inconfort à l'intervalle $i$. \\\n",
    "Soit $c_i$ le coût à l'intervalle $i$.\n",
    "\n",
    "---Objectif---\\\n",
    "Minimiser l'inconfort total\n",
    "$\\sum_{i = 0}^{n} I_i$ sachant que l'inconfort à l'intervalle $i$ peut être défini comme ceci :\n",
    "$\n",
    "\\begin{cases}\n",
    "I_i = I_i + 3 * (T\\_min - T_i)^2 & T_i < T\\_min \\\\\n",
    "I_i = I_i + 1 * (T_i - T\\_max)^2 & T_i > T\\_max \\\\\n",
    "0 & sinon\\\\\n",
    "\\end{cases}\n",
    "$\n",
    "\\\n",
    "\\\n",
    "\\\n",
    "On peut également la noter d'une manière moins conditionelle. En effet, on aimerait considérer uniquement $T_i \\ge T\\_max$, et rien dans le cas contraire. Grâce à la fonction max on peut transformer ce système en simple équation du style.\\\n",
    "$\n",
    "I_i = 3 * (T\\_min - T_i)^2 * max(T\\_min - T_i, 0) + 1 * (T_i - T\\_max)^2 * max(T_i - T\\_max, 0) \n",
    "$\n",
    "\n",
    "---Contraintes---\\\n",
    "$\\sum_{i = 0}^{n} c_i \\leq$ MAX\\_BUDGET\n",
    "\\\n",
    "\\\n",
    "\\\n",
    "L'inconfort à l'intervalle $i$ peut être approximé en utilisant une approximation basée sur des tangentes. L'idée est d'approximer la fonction non linéaire par des segments linéaires. On peut utiliser une approximation par tangentes avec un nombre donné de segments, par exemple 5 segments. Pour chaque segment, on approxime la fonction par une tangente reliant les deux points extrêmes du segment.\n",
    "\n",
    "On peut approximer l'inconfort $I_i$ en utilisant des tangentes de la manière suivante :\n",
    "\n",
    "$\n",
    "I_i = 3 \\cdot (T_{\\text{min}} - T_i)^2 \\cdot \\max(T_{\\text{min}} - T_i, 0) + 1 \\cdot (T_i - T_{\\text{max}})^2 \\cdot \\max(T_i - T_{\\text{max}}, 0)\n",
    "$"
   ]
  },
  {
   "cell_type": "code",
   "execution_count": null,
   "id": "3c154402",
   "metadata": {},
   "outputs": [],
   "source": [
    "def task_2_p2a(MAX_BUDGET, start_idx, NO_TIME=False):\n",
    "    \"\"\"\n",
    "    MIN_PENALITY = 3\n",
    "    MAX_PENALITY = 1\n",
    "    NUM_SEGMENTS = 5\n",
    "    days_offset = 96\n",
    "    end_idx = start_idx + days_offset*7\n",
    "    depart = time.time()\n",
    "    Tin = cp.Variable(shape=(end_idx - start_idx,)) # Température\n",
    "    x = cp.Variable(end_idx - start_idx) # Energie\n",
    "    T0 = 20\n",
    "    contraintes = [Tin[0] == T0]\n",
    "    cout_elec = [NIGHT_COST if is_night(start_idx) else DAY_COST]\n",
    "\n",
    "    for i in range(1, end_idx - start_idx):\n",
    "        cout_elec.append(NIGHT_COST) if is_night(i + start_idx) else cout_elec.append(DAY_COST)\n",
    "        T1 = -(1 - ETA) * (Tin[i-1] - temperatures_exterieurs[i+ start_idx]) + Tin[i-1]\n",
    "        degre_a_compenser = degree_to_get(20, temperatures_exterieurs[i+ start_idx], x[i])\n",
    "        contraintes.append(T1 + degre_a_compenser == Tin[i])\n",
    "        contraintes.append(x[i] <= MAX_ENERGY)\n",
    "        contraintes.append(x[i] >= -MAX_ENERGY)\n",
    "    \n",
    "    contraintes.append(cp.sum(cp.multiply(cout_elec, cp.abs(x)), axis=0) <= MAX_BUDGET)\n",
    "    segments = cp.linspace(MIN_TEMP, MAX_TEMP, NUM_SEGMENTS + 1)\n",
    "    segment_policies = []\n",
    "\n",
    "    for i in range(NUM_SEGMENTS):\n",
    "        segment_min_temp = segments[i]\n",
    "        segment_max_temp = segments[i + 1]\n",
    "        segment_min_p = MIN_PENALITY * (MIN_TEMP - segment_min_temp) ** 2\n",
    "        segment_max_p = MAX_PENALITY * (segment_max_temp - MAX_TEMP) ** 2\n",
    "        segment_penalty = cp.minimum(segment_min_p, segment_max_p)\n",
    "        segment_slope = 2 * MIN_PENALITY * (MIN_TEMP - segment_min_temp)\n",
    "        segment_policies.append(segment_slope * (Tin - segment_min_temp) + segment_penalty)\n",
    "    \n",
    "    objective = cp.sum(segment_policies)\n",
    "    solution = cp.Problem(cp.Minimize(objective), contraintes)\n",
    "    solution.solve()\n",
    "    \n",
    "    fin = time.time() - depart\n",
    "    print(f\"L'inconfort minimal avec un budget de {MAX_BUDGET} $ est de {solution.value}\")\n",
    "    if not NO_TIME:\n",
    "        print(f\"Temps de calcul : {fin} s\")    \n",
    "    \n",
    "    return solution.value, Tin, x.value, fin\n",
    "    \"\"\"\n",
    "    MIN_PENALTY = 3\n",
    "    MAX_PENALTY = 1\n",
    "    NUM_SEGMENTS = 5\n",
    "    days_offset = 96\n",
    "    end_idx = start_idx + days_offset * 7\n",
    "    depart = time.time()\n",
    "    Tin = cp.Variable(shape=(end_idx - start_idx,)) # Température\n",
    "    x = cp.Variable(end_idx - start_idx) # Energie\n",
    "    T0 = 20\n",
    "    contraintes = [Tin[0] == T0]\n",
    "    cout_elec = [NIGHT_COST if is_night(start_idx) else DAY_COST]\n",
    "\n",
    "    for i in range(1, end_idx - start_idx):\n",
    "        cout_elec.append(NIGHT_COST) if is_night(i + start_idx) else cout_elec.append(DAY_COST)\n",
    "        T1 = -(1 - ETA) * (Tin[i - 1] - temperatures_exterieurs[i + start_idx]) + Tin[i - 1]\n",
    "        degre_a_compenser = degree_to_get(20, temperatures_exterieurs[i + start_idx], x[i])\n",
    "        contraintes.append(T1 + degre_a_compenser == Tin[i])\n",
    "        contraintes.append(x[i] <= MAX_ENERGY)\n",
    "        contraintes.append(x[i] >= -MAX_ENERGY)\n",
    "\n",
    "    contraintes.append(cp.sum(cp.multiply(cout_elec, cp.abs(x)), axis=0) <= MAX_BUDGET)\n",
    "    segments = np.linspace(MIN_TEMP, MAX_TEMP, NUM_SEGMENTS + 1)\n",
    "    segment_policies = []\n",
    "\n",
    "    for i in range(NUM_SEGMENTS):\n",
    "        segment_min_temp = segments[i]\n",
    "        segment_max_temp = segments[i + 1]\n",
    "        segment_min_p = MIN_PENALTY * (MIN_TEMP - segment_min_temp) ** 2\n",
    "        segment_max_p = MAX_PENALTY * (segment_max_temp - MAX_TEMP) ** 2\n",
    "        segment_penalty = cp.minimum(segment_min_p, segment_max_p)\n",
    "        segment_slope = 2 * MIN_PENALTY * (MIN_TEMP - segment_min_temp)\n",
    "        segment_policies.append(cp.maximum(segment_slope * (Tin - segment_min_temp), 0) + segment_penalty)\n",
    "\n",
    "    segment_objective = cp.sum(segment_policies)\n",
    "    objective = cp.sum(segment_objective)\n",
    "    solution = cp.Problem(cp.Minimize(objective), contraintes)\n",
    "    solution.solve()\n",
    "\n",
    "    fin = time.time() - depart\n",
    "    print(f\"L'inconfort minimal avec un budget de {MAX_BUDGET} $ est de {solution.value}\")\n",
    "    if not NO_TIME:\n",
    "        print(f\"Temps de calcul : {fin} s\")\n",
    "\n",
    "    return solution.value, Tin, x.value, fin"
   ]
  },
  {
   "cell_type": "code",
   "execution_count": null,
   "id": "860f55c1",
   "metadata": {},
   "outputs": [],
   "source": [
    "min_inconfort_2_a, temperature_in_2_a, énergie_2_a, _ = task_2_p2a(max_budget, 13050)"
   ]
  },
  {
   "cell_type": "code",
   "execution_count": null,
   "id": "1d2a7358",
   "metadata": {},
   "outputs": [],
   "source": [
    "display_temperature(temperature_in_2_a, temperature_ext, 13050)"
   ]
  },
  {
   "cell_type": "code",
   "execution_count": null,
   "id": "519a734e",
   "metadata": {},
   "outputs": [],
   "source": [
    "display_energy(énergie_2_a)"
   ]
  },
  {
   "attachments": {},
   "cell_type": "markdown",
   "id": "2be891ab",
   "metadata": {},
   "source": [
    "<div class=\"alert alert-block alert-info\"><b>Question 2.4</b> :<br> \n",
    "    Pour terminez cette partie, résolvez encore une fois ce nouveau modèle, mais cette fois de façon exacte, en utilisant un solveur quadratique. Comparez avec la solution approchée obtenue précédemment (allure de la solution, temps de calcul).\n",
    "</div>"
   ]
  },
  {
   "cell_type": "code",
   "execution_count": null,
   "id": "e1ccae0a",
   "metadata": {},
   "outputs": [],
   "source": [
    "def task_2_p2b(MAX_BUDGET, start_idx, NO_TIME=False):\n",
    "    \"\"\"\n",
    "    MIN_PENALITY = 3\n",
    "    MAX_PENALITY = 1\n",
    "    days_offset = 96\n",
    "    end_idx = start_idx + days_offset*7\n",
    "    depart = time.time()\n",
    "    Tin = cp.Variable(end_idx - start_idx) # Température\n",
    "    x = cp.Variable(end_idx - start_idx) # Energie\n",
    "    T0 = 20\n",
    "    contraintes = [Tin[0] == T0]\n",
    "    cout_elec = [NIGHT_COST  if is_night(start_idx) else DAY_COST]\n",
    "\n",
    "    for i in range(1, end_idx - start_idx):\n",
    "        cout_elec.append(NIGHT_COST) if is_night(i + start_idx) else cout_elec.append(DAY_COST)\n",
    "        T1 = -(1 - ETA) * (Tin[i-1] - temperatures_exterieurs[i+ start_idx]) + Tin[i-1]\n",
    "        degre_a_compenser = degree_to_get(20, temperatures_exterieurs[i+ start_idx], x[i])\n",
    "        contraintes.append(T1 + degre_a_compenser == Tin[i])\n",
    "        contraintes.append(x[i] <= MAX_ENERGY)\n",
    "        contraintes.append(x[i] >= -MAX_ENERGY)\n",
    "    \n",
    "    contraintes.append(cp.sum(cp.multiply(cout_elec, cp.abs(x))) <= MAX_BUDGET)\n",
    "    inconfort_func = lambda T : MIN_PENALITY * (MIN_TEMP - T)**2 * cp.maximum(MIN_TEMP - T, 0) + MAX_PENALITY * (T - MAX_TEMP) * cp.maximum(T - MAX_TEMP , 0)\n",
    "    minimise_function = cp.sum(list(map(inconfort_func, Tin)))\n",
    "    solution = cp.Problem(cp.Minimize(minimise_function), contraintes)\n",
    "    solution.solve()\n",
    "\n",
    "    fin = time.time() - depart    \n",
    "    print(f\"L'inconfort minimal avec un budget de {MAX_BUDGET} $ est de {solution.value}\")\n",
    "    if (not NO_TIME):\n",
    "        print(f\"Temps de calcul : {fin} s\")    \n",
    "    \n",
    "    return (solution.value, Tin, x.value, fin)\n",
    "    \"\"\"\n",
    "    MIN_PENALTY = 3\n",
    "    MAX_PENALTY = 1\n",
    "    days_offset = 96\n",
    "    end_idx = start_idx + days_offset * 7\n",
    "    depart = time.time()\n",
    "    Tin = cp.Variable(end_idx - start_idx) # Température\n",
    "    x = cp.Variable(end_idx - start_idx) # Energie\n",
    "    T0 = 20\n",
    "    contraintes = [Tin[0] == T0]\n",
    "    cout_elec = [NIGHT_COST if is_night(start_idx) else DAY_COST]\n",
    "\n",
    "    for i in range(1, end_idx - start_idx):\n",
    "        cout_elec.append(NIGHT_COST) if is_night(i + start_idx) else cout_elec.append(DAY_COST)\n",
    "        T1 = -(1 - ETA) * (Tin[i - 1] - temperatures_exterieurs[i + start_idx]) + Tin[i - 1]\n",
    "        degre_a_compenser = degree_to_get(20, temperatures_exterieurs[i + start_idx], x[i])\n",
    "        contraintes.append(T1 + degre_a_compenser == Tin[i])\n",
    "        contraintes.append(x[i] <= MAX_ENERGY)\n",
    "        contraintes.append(x[i] >= -MAX_ENERGY)\n",
    "\n",
    "    contraintes.append(cp.sum(cp.multiply(cout_elec, cp.abs(x))) <= MAX_BUDGET)\n",
    "    inconfort_func = lambda T: MIN_PENALTY * (MIN_TEMP - T) ** 2 + MAX_PENALTY * (T - MAX_TEMP) ** 2\n",
    "    minimise_function = cp.sum(list(map(inconfort_func, Tin)))\n",
    "    solution = cp.Problem(cp.Minimize(minimise_function), contraintes)\n",
    "    solution.solve(solver=cp.ECOS)\n",
    "\n",
    "    fin = time.time() - depart\n",
    "    print(f\"L'inconfort minimal avec un budget de {MAX_BUDGET} $ est de {solution.value}\")\n",
    "    if not NO_TIME:\n",
    "        print(f\"Temps de calcul : {fin} s\")\n",
    "\n",
    "    return solution.value, Tin, x.value, fin"
   ]
  },
  {
   "cell_type": "code",
   "execution_count": null,
   "id": "db32e5cb",
   "metadata": {},
   "outputs": [],
   "source": [
    "min_inconfort_2_b, temperature_in_2_b, énergie_2_b, _ = task_2_p2b(max_budget_2, 18500)"
   ]
  },
  {
   "cell_type": "code",
   "execution_count": null,
   "id": "6f935df9",
   "metadata": {},
   "outputs": [],
   "source": [
    "display_temperature(temperature_in_2_b, temperature_ext, 18500)"
   ]
  },
  {
   "cell_type": "code",
   "execution_count": null,
   "id": "1c898b98",
   "metadata": {},
   "outputs": [],
   "source": [
    "display_energy(énergie_2_b)"
   ]
  },
  {
   "attachments": {},
   "cell_type": "markdown",
   "id": "7f47806b",
   "metadata": {},
   "source": [
    "**Tâche 3** : on voudrait à présent mieux comprendre le compromis qui existe entre le budget alloué et l'inconfort total qui en résulte. Proposez un **graphique représentant au mieux cette relation entre budget et inconfort**, où on fera varier le budget entre entre zéro et le coût minimal identifié lors de la tâche 1 (ce budget sera indiqué en pourcentage, de 0 à 100%). Ceci nécessitera la résolution de plusieurs problèmes, et il sera judicieux d'utiliser la fonctionnalité _warm start_ du solver pour accélérer les calculs.\n",
    "\n",
    "<div class=\"alert alert-block alert-warning\"><b>A mentionner</b> :<br> \n",
    "- graphique demandé + temps de calcul (total et moyenne par problème) + bref commentaire (maximum 4 lignes)<br>\n",
    "- à nouveau pour les deux périodes mentionnées  lors des tâches 1 et 2\n",
    "</div>\n",
    "\n",
    "---"
   ]
  },
  {
   "attachments": {},
   "cell_type": "markdown",
   "id": "caedf962",
   "metadata": {},
   "source": [
    "<div class=\"alert alert-block alert-info\"><b>Question 3.1</b> :<br> \n",
    "    Fournissez le graphique et les commentaires demandé ci-dessus\n",
    "</div>"
   ]
  },
  {
   "cell_type": "code",
   "execution_count": null,
   "id": "9180d6dc",
   "metadata": {},
   "outputs": [],
   "source": [
    "# Calcul des données nécessaires\n",
    "inconfort_total_sur_8_budgets_ref = []\n",
    "inconfort_total_sur_8_budgets_2 = []\n",
    "budget = [0, 1, 2, 3, 4, 5, 6, 7, 8]\n",
    "print(budget)\n",
    "total_time_budget_1 = 0\n",
    "total_time_budget_2 = 0\n",
    "\n",
    "for i in range(9):\n",
    "    min_inconfort, temperature_in, énergie, _ \n",
    "    budget_1 = task_2(budget[i], 13050, NO_TIME=True)\n",
    "    budget_2 = task_2(budget[i], 18500, NO_TIME=True)\n",
    "    total_time_budget_1 += budget_1[3]\n",
    "    total_time_budget_2 += budget_2[3]\n",
    "    inconfort_total_sur_8_budgets_ref.append(budget_1[0])\n",
    "    inconfort_total_sur_8_budgets_2.append(budget_2[0])\n",
    "\n",
    "mean_time_budget_1 = total_time_budget_1 / len(budget)\n",
    "mean_time_budget_2 = total_time_budget_2 / len(budget)\n",
    "\n",
    "print(f\"Temps total pour la première plage : {total_time_budget_1} s\")\n",
    "print(f\"Temps moyens pour la première plage : {mean_time_budget_1} s\")\n",
    "print()\n",
    "print(f\"Temps total pour la deuxième plage : {total_time_budget_2} s\")\n",
    "print(f\"Temps moyens pour la deuxième plage : {mean_time_budget_2} s\")"
   ]
  },
  {
   "cell_type": "code",
   "execution_count": null,
   "id": "acd53f12",
   "metadata": {},
   "outputs": [],
   "source": [
    "display_inconfort_budget(inconfort_total_sur_8_budgets_ref, budget)\n",
    "display_inconfort_budget(inconfort_total_sur_8_budgets_2, budget)"
   ]
  },
  {
   "attachments": {},
   "cell_type": "markdown",
   "id": "95a5090a",
   "metadata": {},
   "source": [
    "---Commentaire---\\\n",
    "On remarque très nettement que l’inconfort total est inversement proportionnel au budget. Ce qui est totalement logique puisque la pompe peut être davantage utilisée pour maintenir une température optimale lorsqu’on a le budget pour lui permettre de tourner."
   ]
  },
  {
   "attachments": {},
   "cell_type": "markdown",
   "id": "0d1eeb96",
   "metadata": {},
   "source": [
    "<div class=\"alert alert-block alert-info\"><b>Question 3.2</b> :<br> \n",
    "    Expliquez la pente linéaire observée dans une grande partie du graphique obtenu. Recalculez la valeur de la pente à partir des informations fournies par le solver pour la résolution avec le budget maximal (tâche 2 initiale, Question 2.2), et comparez à celle du graphique. Enfin, expliquez pourquoi le graphique cesse à un moment d'être une droite.\n",
    "</div>"
   ]
  },
  {
   "attachments": {},
   "cell_type": "markdown",
   "id": "4e9b0c8a",
   "metadata": {},
   "source": [
    "---\n"
   ]
  },
  {
   "attachments": {},
   "cell_type": "markdown",
   "id": "d5523f6e",
   "metadata": {},
   "source": [
    "<div class=\"alert alert-block alert-info\"><b>Bonus</b><br>\n",
    "    Estimez l'effet de l'utilisation d'une version imprécise des données de température (prévisions)<br>\n",
    "</div>\n",
    "Ce bonus est optionnel, et ne conduit pas à l'obtention de points supplémentaires : il est seulement destiné à attirer votre\n",
    "    attention sur le caractère artificiel de la situation proposée, où on connaît parfaitement et à l'avance les températures extérieures."
   ]
  },
  {
   "attachments": {},
   "cell_type": "markdown",
   "id": "640fd558",
   "metadata": {},
   "source": [
    "## Consignes et conseils\n",
    "- Le projet se réalise par groupe de (maximum) quatre étudiants (cf. groupes constitués sur Moodle). \n",
    "\n",
    "- L'assistant responsable du projet est Guillaume Van Dessel. Toutes les  questions sur le projet doivent être posées via Moodle dans le forum prévu pour le projet (et pas par message/mail individuel). Des permanences seront prévues, et seront annoncées via Moodle.\n",
    "\n",
    "- Il est fortement suggéré d'utiliser un langage de modélisation pour formuler et résoudre vos problèmes d'optimisation linéaire. Nous conseillons d'utiliser le module CVXPY combiné au solver d'optimisation HIGHS (nous avons vérifié que cette combinaison est suffisamment performance pour le projet).\n",
    "\n",
    "- Les groupes peuvent échanger leurs réflexions, partager leurs idées et comparer leurs résultats. Ils ne peuvent pas recopier les raisonnements, les solutions ou les codes informatiques. L'utilisation de toute information ou aide extérieure doit obligatoirement être mentionnée dans le rapport, en citant la source.\n",
    "\n",
    "- Votre rapport final sera constitué de ce notebook complété, où vous aurez inséré vos codes, vos résultats, vos graphiques et commentaires.\n",
    "\n",
    "- Ce rapport  est à remettre au plus tard le **mercredi 24 mai 2023** à minuit (soir), via Moodle, sous la forme d'une archive compressée contenant votre notebook et tous les fichiers nécessaires pour le faire fonctionner (code Python, etc.). Le notebook doit contenir les cellules sous forme déjà évaluée (résultats, tableaux, graphiques, etc.), mais doit pouvoir également être ré-évalué en entier. \n",
    "\n",
    "- Organisez efficacement votre travail de groupe, et répartissez vous le travail. Les tâches à effectuer durant cette seconde partie sont *largement indépendantes* les unes des autres.\n",
    "\n",
    "\n",
    "### Changelog\n",
    "- 2023-03-24 v1\n",
    "- 2023-04-23 v1.1 avec récapitulatif des précisions apportées sur Moodle (en bleu)\n",
    "- 2023-04-28 description des tâches de la seconde partie\n",
    "- 2023-05-12 v2 avec le format attendu (notebook) pour le rapport final\n",
    "- 2023-05-12 v2.1 précisions supplémentaire pour quelques questions"
   ]
  }
 ],
 "metadata": {
  "kernelspec": {
   "display_name": "Python 3 (ipykernel)",
   "language": "python",
   "name": "python3"
  },
  "language_info": {
   "codemirror_mode": {
    "name": "ipython",
    "version": 3
   },
   "file_extension": ".py",
   "mimetype": "text/x-python",
   "name": "python",
   "nbconvert_exporter": "python",
   "pygments_lexer": "ipython3",
   "version": "3.10.6"
  }
 },
 "nbformat": 4,
 "nbformat_minor": 5
}
